{
 "cells": [
  {
   "cell_type": "code",
   "execution_count": null,
   "metadata": {
    "id": "PCXMc5JWW3mg"
   },
   "outputs": [],
   "source": [
    "import pandas as pd\n",
    "import numpy as np"
   ]
  },
  {
   "cell_type": "code",
   "execution_count": null,
   "metadata": {
    "colab": {
     "base_uri": "https://localhost:8080/",
     "height": 258
    },
    "executionInfo": {
     "elapsed": 331,
     "status": "ok",
     "timestamp": 1626759287638,
     "user": {
      "displayName": "‍임혜리[ 학부재학 / 보건정책관리학부 ]",
      "photoUrl": "",
      "userId": "06644481061053667211"
     },
     "user_tz": -540
    },
    "id": "6y_DnqqyEPoC",
    "outputId": "bb2b907f-5b51-4883-bebd-2aec9ed33191"
   },
   "outputs": [
    {
     "name": "stdout",
     "output_type": "stream",
     "text": [
      "class label: [1 2 3]\n"
     ]
    },
    {
     "data": {
      "text/html": [
       "<div>\n",
       "<style scoped>\n",
       "    .dataframe tbody tr th:only-of-type {\n",
       "        vertical-align: middle;\n",
       "    }\n",
       "\n",
       "    .dataframe tbody tr th {\n",
       "        vertical-align: top;\n",
       "    }\n",
       "\n",
       "    .dataframe thead th {\n",
       "        text-align: right;\n",
       "    }\n",
       "</style>\n",
       "<table border=\"1\" class=\"dataframe\">\n",
       "  <thead>\n",
       "    <tr style=\"text-align: right;\">\n",
       "      <th></th>\n",
       "      <th>class label</th>\n",
       "      <th>alchohol</th>\n",
       "      <th>malic acid</th>\n",
       "      <th>ash</th>\n",
       "      <th>alcalinity of ash</th>\n",
       "      <th>magnesium</th>\n",
       "      <th>total phenols</th>\n",
       "      <th>flavanoids</th>\n",
       "      <th>nonflavanoid phenols</th>\n",
       "      <th>proanthocyanins</th>\n",
       "      <th>color intensity</th>\n",
       "      <th>hue</th>\n",
       "      <th>OD280</th>\n",
       "      <th>proline</th>\n",
       "    </tr>\n",
       "  </thead>\n",
       "  <tbody>\n",
       "    <tr>\n",
       "      <th>0</th>\n",
       "      <td>1</td>\n",
       "      <td>14.23</td>\n",
       "      <td>1.71</td>\n",
       "      <td>2.43</td>\n",
       "      <td>15.6</td>\n",
       "      <td>127</td>\n",
       "      <td>2.80</td>\n",
       "      <td>3.06</td>\n",
       "      <td>0.28</td>\n",
       "      <td>2.29</td>\n",
       "      <td>5.64</td>\n",
       "      <td>1.04</td>\n",
       "      <td>3.92</td>\n",
       "      <td>1065</td>\n",
       "    </tr>\n",
       "    <tr>\n",
       "      <th>1</th>\n",
       "      <td>1</td>\n",
       "      <td>13.20</td>\n",
       "      <td>1.78</td>\n",
       "      <td>2.14</td>\n",
       "      <td>11.2</td>\n",
       "      <td>100</td>\n",
       "      <td>2.65</td>\n",
       "      <td>2.76</td>\n",
       "      <td>0.26</td>\n",
       "      <td>1.28</td>\n",
       "      <td>4.38</td>\n",
       "      <td>1.05</td>\n",
       "      <td>3.40</td>\n",
       "      <td>1050</td>\n",
       "    </tr>\n",
       "    <tr>\n",
       "      <th>2</th>\n",
       "      <td>1</td>\n",
       "      <td>13.16</td>\n",
       "      <td>2.36</td>\n",
       "      <td>2.67</td>\n",
       "      <td>18.6</td>\n",
       "      <td>101</td>\n",
       "      <td>2.80</td>\n",
       "      <td>3.24</td>\n",
       "      <td>0.30</td>\n",
       "      <td>2.81</td>\n",
       "      <td>5.68</td>\n",
       "      <td>1.03</td>\n",
       "      <td>3.17</td>\n",
       "      <td>1185</td>\n",
       "    </tr>\n",
       "    <tr>\n",
       "      <th>3</th>\n",
       "      <td>1</td>\n",
       "      <td>14.37</td>\n",
       "      <td>1.95</td>\n",
       "      <td>2.50</td>\n",
       "      <td>16.8</td>\n",
       "      <td>113</td>\n",
       "      <td>3.85</td>\n",
       "      <td>3.49</td>\n",
       "      <td>0.24</td>\n",
       "      <td>2.18</td>\n",
       "      <td>7.80</td>\n",
       "      <td>0.86</td>\n",
       "      <td>3.45</td>\n",
       "      <td>1480</td>\n",
       "    </tr>\n",
       "    <tr>\n",
       "      <th>4</th>\n",
       "      <td>1</td>\n",
       "      <td>13.24</td>\n",
       "      <td>2.59</td>\n",
       "      <td>2.87</td>\n",
       "      <td>21.0</td>\n",
       "      <td>118</td>\n",
       "      <td>2.80</td>\n",
       "      <td>2.69</td>\n",
       "      <td>0.39</td>\n",
       "      <td>1.82</td>\n",
       "      <td>4.32</td>\n",
       "      <td>1.04</td>\n",
       "      <td>2.93</td>\n",
       "      <td>735</td>\n",
       "    </tr>\n",
       "  </tbody>\n",
       "</table>\n",
       "</div>"
      ],
      "text/plain": [
       "   class label  alchohol  malic acid  ...   hue  OD280  proline\n",
       "0            1     14.23        1.71  ...  1.04   3.92     1065\n",
       "1            1     13.20        1.78  ...  1.05   3.40     1050\n",
       "2            1     13.16        2.36  ...  1.03   3.17     1185\n",
       "3            1     14.37        1.95  ...  0.86   3.45     1480\n",
       "4            1     13.24        2.59  ...  1.04   2.93      735\n",
       "\n",
       "[5 rows x 14 columns]"
      ]
     },
     "execution_count": 61,
     "metadata": {
      "tags": []
     },
     "output_type": "execute_result"
    }
   ],
   "source": [
    "dat_wine=pd.read_csv('http://archive.ics.uci.edu/ml/machine-learning-databases/'\n",
    "                     'wine/wine.data',header=None)\n",
    "dat_wine.columns = ['class label', 'alchohol', 'malic acid', 'ash', \n",
    "                    'alcalinity of ash', 'magnesium', 'total phenols', \n",
    "                    'flavanoids', 'nonflavanoid phenols', \n",
    "                    'proanthocyanins', 'color intensity', 'hue', \n",
    "                    'OD280', 'proline']  # Column names\n",
    "print('class label:', np.unique(dat_wine['class label']))  # Class 출력\n",
    "dat_wine.head()"
   ]
  },
  {
   "cell_type": "code",
   "execution_count": null,
   "metadata": {
    "colab": {
     "base_uri": "https://localhost:8080/"
    },
    "executionInfo": {
     "elapsed": 360,
     "status": "ok",
     "timestamp": 1626758688483,
     "user": {
      "displayName": "‍임혜리[ 학부재학 / 보건정책관리학부 ]",
      "photoUrl": "",
      "userId": "06644481061053667211"
     },
     "user_tz": -540
    },
    "id": "ePBkfDMRX3Mx",
    "outputId": "eb3e0f4a-9e10-470f-8d81-13abd77cb58f"
   },
   "outputs": [
    {
     "name": "stdout",
     "output_type": "stream",
     "text": [
      "<class 'pandas.core.frame.DataFrame'>\n",
      "RangeIndex: 178 entries, 0 to 177\n",
      "Data columns (total 14 columns):\n",
      " #   Column                Non-Null Count  Dtype  \n",
      "---  ------                --------------  -----  \n",
      " 0   class label           178 non-null    int64  \n",
      " 1   alchohol              178 non-null    float64\n",
      " 2   malic acid            178 non-null    float64\n",
      " 3   ash                   178 non-null    float64\n",
      " 4   alcalinity of ash     178 non-null    float64\n",
      " 5   magnesium             178 non-null    int64  \n",
      " 6   total phenols         178 non-null    float64\n",
      " 7   flavanoids            178 non-null    float64\n",
      " 8   nonflavanoid phenols  178 non-null    float64\n",
      " 9   proanthocyanins       178 non-null    float64\n",
      " 10  color intensity       178 non-null    float64\n",
      " 11  hue                   178 non-null    float64\n",
      " 12  OD280                 178 non-null    float64\n",
      " 13  proline               178 non-null    int64  \n",
      "dtypes: float64(11), int64(3)\n",
      "memory usage: 19.6 KB\n"
     ]
    }
   ],
   "source": [
    "dat_wine.info()"
   ]
  },
  {
   "cell_type": "code",
   "execution_count": null,
   "metadata": {
    "colab": {
     "base_uri": "https://localhost:8080/"
    },
    "executionInfo": {
     "elapsed": 285,
     "status": "ok",
     "timestamp": 1626754027837,
     "user": {
      "displayName": "‍임혜리[ 학부재학 / 보건정책관리학부 ]",
      "photoUrl": "",
      "userId": "06644481061053667211"
     },
     "user_tz": -540
    },
    "id": "JLuQ5_JvFiiq",
    "outputId": "44b55a4c-5057-462f-fe3f-70820cbe04df"
   },
   "outputs": [
    {
     "name": "stdout",
     "output_type": "stream",
     "text": [
      "     class label  alchohol  malic acid  ...   hue  OD280  proline\n",
      "0              1     14.23        1.71  ...  1.04   3.92     1065\n",
      "1              1     13.20        1.78  ...  1.05   3.40     1050\n",
      "2              1     13.16        2.36  ...  1.03   3.17     1185\n",
      "3              1     14.37        1.95  ...  0.86   3.45     1480\n",
      "4              1     13.24        2.59  ...  1.04   2.93      735\n",
      "..           ...       ...         ...  ...   ...    ...      ...\n",
      "173            3     13.71        5.65  ...  0.64   1.74      740\n",
      "174            3     13.40        3.91  ...  0.70   1.56      750\n",
      "175            3     13.27        4.28  ...  0.59   1.56      835\n",
      "176            3     13.17        2.59  ...  0.60   1.62      840\n",
      "177            3     14.13        4.10  ...  0.61   1.60      560\n",
      "\n",
      "[178 rows x 14 columns]\n"
     ]
    }
   ],
   "source": [
    "df = pd.DataFrame(dat_wine)\n",
    "print(df)"
   ]
  },
  {
   "cell_type": "code",
   "execution_count": null,
   "metadata": {
    "id": "vgMCuRruZo3I"
   },
   "outputs": [],
   "source": [
    "import seaborn as sns"
   ]
  },
  {
   "cell_type": "code",
   "execution_count": null,
   "metadata": {
    "id": "xkfa-dBtmOH7"
   },
   "outputs": [],
   "source": [
    "sns.set(style='darkgrid')"
   ]
  },
  {
   "cell_type": "code",
   "execution_count": null,
   "metadata": {
    "colab": {
     "base_uri": "https://localhost:8080/",
     "height": 394
    },
    "executionInfo": {
     "elapsed": 737,
     "status": "ok",
     "timestamp": 1626754125647,
     "user": {
      "displayName": "‍임혜리[ 학부재학 / 보건정책관리학부 ]",
      "photoUrl": "",
      "userId": "06644481061053667211"
     },
     "user_tz": -540
    },
    "id": "-9xEs3jBb1vT",
    "outputId": "8250680b-a8bd-47dd-c556-f7f312756036"
   },
   "outputs": [
    {
     "name": "stderr",
     "output_type": "stream",
     "text": [
      "/usr/local/lib/python3.7/dist-packages/seaborn/distributions.py:2557: FutureWarning: `distplot` is a deprecated function and will be removed in a future version. Please adapt your code to use either `displot` (a figure-level function with similar flexibility) or `histplot` (an axes-level function for histograms).\n",
      "  warnings.warn(msg, FutureWarning)\n",
      "/usr/local/lib/python3.7/dist-packages/seaborn/distributions.py:2056: FutureWarning: The `axis` variable is no longer used and will be removed. Instead, assign variables directly to `x` or `y`.\n",
      "  warnings.warn(msg, FutureWarning)\n"
     ]
    },
    {
     "data": {
      "text/plain": [
       "<matplotlib.axes._subplots.AxesSubplot at 0x7fcadf92c210>"
      ]
     },
     "execution_count": 19,
     "metadata": {
      "tags": []
     },
     "output_type": "execute_result"
    },
    {
     "data": {
      "image/png": "[encoded data removed]",
      "text/plain": [
       "<Figure size 432x288 with 1 Axes>"
      ]
     },
     "metadata": {
      "tags": []
     },
     "output_type": "display_data"
    }
   ],
   "source": [
    "sns.distplot(df[\"class label\"], bins=5, hist = True, kde=True,rug = True, kde_kws={\"color\":\"g\",\"alpha\":0.3, \"linewidth\":3,\"shade\":True})"
   ]
  },
  {
   "cell_type": "code",
   "execution_count": null,
   "metadata": {
    "colab": {
     "base_uri": "https://localhost:8080/",
     "height": 396
    },
    "executionInfo": {
     "elapsed": 851,
     "status": "ok",
     "timestamp": 1626754145115,
     "user": {
      "displayName": "‍임혜리[ 학부재학 / 보건정책관리학부 ]",
      "photoUrl": "",
      "userId": "06644481061053667211"
     },
     "user_tz": -540
    },
    "id": "PGNQ8sl3qh6o",
    "outputId": "364b5b16-f233-4f45-948f-a17f95651f72"
   },
   "outputs": [
    {
     "name": "stderr",
     "output_type": "stream",
     "text": [
      "/usr/local/lib/python3.7/dist-packages/seaborn/distributions.py:2557: FutureWarning: `distplot` is a deprecated function and will be removed in a future version. Please adapt your code to use either `displot` (a figure-level function with similar flexibility) or `histplot` (an axes-level function for histograms).\n",
      "  warnings.warn(msg, FutureWarning)\n",
      "/usr/local/lib/python3.7/dist-packages/seaborn/distributions.py:2056: FutureWarning: The `axis` variable is no longer used and will be removed. Instead, assign variables directly to `x` or `y`.\n",
      "  warnings.warn(msg, FutureWarning)\n"
     ]
    },
    {
     "data": {
      "text/plain": [
       "<matplotlib.axes._subplots.AxesSubplot at 0x7fcaeb452f50>"
      ]
     },
     "execution_count": 20,
     "metadata": {
      "tags": []
     },
     "output_type": "execute_result"
    },
    {
     "data": {
      "image/png": "[encoded data removed]",
      "text/plain": [
       "<Figure size 432x288 with 1 Axes>"
      ]
     },
     "metadata": {
      "tags": []
     },
     "output_type": "display_data"
    }
   ],
   "source": [
    "sns.distplot(df[\"alchohol\"],bins =10, hist = True, kde=True,rug = True, kde_kws={\"color\":\"g\",\"alpha\":0.3, \"linewidth\":3,\"shade\":True})"
   ]
  },
  {
   "cell_type": "code",
   "execution_count": null,
   "metadata": {
    "id": "ZwSY43SNq1td"
   },
   "outputs": [],
   "source": [
    "import matplotlib.pyplot as plt"
   ]
  },
  {
   "cell_type": "code",
   "execution_count": null,
   "metadata": {
    "colab": {
     "base_uri": "https://localhost:8080/",
     "height": 608
    },
    "executionInfo": {
     "elapsed": 1931,
     "status": "ok",
     "timestamp": 1626755755555,
     "user": {
      "displayName": "‍임혜리[ 학부재학 / 보건정책관리학부 ]",
      "photoUrl": "",
      "userId": "06644481061053667211"
     },
     "user_tz": -540
    },
    "id": "eWdqAM6Fq6Fw",
    "outputId": "d7a33f98-fa72-4a68-e522-2bfa07007503"
   },
   "outputs": [
    {
     "name": "stderr",
     "output_type": "stream",
     "text": [
      "/usr/local/lib/python3.7/dist-packages/seaborn/distributions.py:2557: FutureWarning: `distplot` is a deprecated function and will be removed in a future version. Please adapt your code to use either `displot` (a figure-level function with similar flexibility) or `histplot` (an axes-level function for histograms).\n",
      "  warnings.warn(msg, FutureWarning)\n",
      "/usr/local/lib/python3.7/dist-packages/seaborn/distributions.py:2056: FutureWarning: The `axis` variable is no longer used and will be removed. Instead, assign variables directly to `x` or `y`.\n",
      "  warnings.warn(msg, FutureWarning)\n",
      "/usr/local/lib/python3.7/dist-packages/seaborn/distributions.py:2557: FutureWarning: `distplot` is a deprecated function and will be removed in a future version. Please adapt your code to use either `displot` (a figure-level function with similar flexibility) or `histplot` (an axes-level function for histograms).\n",
      "  warnings.warn(msg, FutureWarning)\n",
      "/usr/local/lib/python3.7/dist-packages/seaborn/distributions.py:2056: FutureWarning: The `axis` variable is no longer used and will be removed. Instead, assign variables directly to `x` or `y`.\n",
      "  warnings.warn(msg, FutureWarning)\n",
      "/usr/local/lib/python3.7/dist-packages/seaborn/distributions.py:2557: FutureWarning: `distplot` is a deprecated function and will be removed in a future version. Please adapt your code to use either `displot` (a figure-level function with similar flexibility) or `histplot` (an axes-level function for histograms).\n",
      "  warnings.warn(msg, FutureWarning)\n",
      "/usr/local/lib/python3.7/dist-packages/seaborn/distributions.py:2056: FutureWarning: The `axis` variable is no longer used and will be removed. Instead, assign variables directly to `x` or `y`.\n",
      "  warnings.warn(msg, FutureWarning)\n",
      "/usr/local/lib/python3.7/dist-packages/seaborn/distributions.py:2557: FutureWarning: `distplot` is a deprecated function and will be removed in a future version. Please adapt your code to use either `displot` (a figure-level function with similar flexibility) or `histplot` (an axes-level function for histograms).\n",
      "  warnings.warn(msg, FutureWarning)\n",
      "/usr/local/lib/python3.7/dist-packages/seaborn/distributions.py:2056: FutureWarning: The `axis` variable is no longer used and will be removed. Instead, assign variables directly to `x` or `y`.\n",
      "  warnings.warn(msg, FutureWarning)\n"
     ]
    },
    {
     "data": {
      "text/plain": [
       "<matplotlib.axes._subplots.AxesSubplot at 0x7fcad8eb1310>"
      ]
     },
     "execution_count": 44,
     "metadata": {
      "tags": []
     },
     "output_type": "execute_result"
    },
    {
     "data": {
      "image/png": "[encoded data removed]",
      "text/plain": [
       "<Figure size 432x288 with 4 Axes>"
      ]
     },
     "metadata": {
      "tags": []
     },
     "output_type": "display_data"
    }
   ],
   "source": [
    "f,axes = plt.subplots(2,2)\n",
    "sns.distplot(df[\"class label\"], bins=5, hist = True, kde=True,rug = True, kde_kws={\"color\":\"g\",\"alpha\":0.3, \"linewidth\":3,\"shade\":True},ax=axes[0,0])\n",
    "sns.distplot(df[\"alchohol\"],bins =10, hist = True, kde=True,rug = True, kde_kws={\"color\":\"g\",\"alpha\":0.3, \"linewidth\":3,\"shade\":True},ax=axes[0,1])\n",
    "sns.distplot(df[\"malic acid\"],bins =10, hist = True, kde=True,rug = True, kde_kws={\"color\":\"g\",\"alpha\":0.3, \"linewidth\":3,\"shade\":True},ax=axes[1,0])\n",
    "sns.distplot(df[\"ash\"],bins =10, hist = True, kde=True,rug = True, kde_kws={\"color\":\"g\",\"alpha\":0.3, \"linewidth\":3,\"shade\":True},ax=axes[1,1])"
   ]
  },
  {
   "cell_type": "code",
   "execution_count": null,
   "metadata": {
    "colab": {
     "base_uri": "https://localhost:8080/",
     "height": 608
    },
    "executionInfo": {
     "elapsed": 1834,
     "status": "ok",
     "timestamp": 1626755886420,
     "user": {
      "displayName": "‍임혜리[ 학부재학 / 보건정책관리학부 ]",
      "photoUrl": "",
      "userId": "06644481061053667211"
     },
     "user_tz": -540
    },
    "id": "bRJmkG7bM9vF",
    "outputId": "4b329890-02b1-442a-841a-d5db77cd630b"
   },
   "outputs": [
    {
     "name": "stderr",
     "output_type": "stream",
     "text": [
      "/usr/local/lib/python3.7/dist-packages/seaborn/distributions.py:2557: FutureWarning: `distplot` is a deprecated function and will be removed in a future version. Please adapt your code to use either `displot` (a figure-level function with similar flexibility) or `histplot` (an axes-level function for histograms).\n",
      "  warnings.warn(msg, FutureWarning)\n",
      "/usr/local/lib/python3.7/dist-packages/seaborn/distributions.py:2056: FutureWarning: The `axis` variable is no longer used and will be removed. Instead, assign variables directly to `x` or `y`.\n",
      "  warnings.warn(msg, FutureWarning)\n",
      "/usr/local/lib/python3.7/dist-packages/seaborn/distributions.py:2557: FutureWarning: `distplot` is a deprecated function and will be removed in a future version. Please adapt your code to use either `displot` (a figure-level function with similar flexibility) or `histplot` (an axes-level function for histograms).\n",
      "  warnings.warn(msg, FutureWarning)\n",
      "/usr/local/lib/python3.7/dist-packages/seaborn/distributions.py:2056: FutureWarning: The `axis` variable is no longer used and will be removed. Instead, assign variables directly to `x` or `y`.\n",
      "  warnings.warn(msg, FutureWarning)\n",
      "/usr/local/lib/python3.7/dist-packages/seaborn/distributions.py:2557: FutureWarning: `distplot` is a deprecated function and will be removed in a future version. Please adapt your code to use either `displot` (a figure-level function with similar flexibility) or `histplot` (an axes-level function for histograms).\n",
      "  warnings.warn(msg, FutureWarning)\n",
      "/usr/local/lib/python3.7/dist-packages/seaborn/distributions.py:2056: FutureWarning: The `axis` variable is no longer used and will be removed. Instead, assign variables directly to `x` or `y`.\n",
      "  warnings.warn(msg, FutureWarning)\n",
      "/usr/local/lib/python3.7/dist-packages/seaborn/distributions.py:2557: FutureWarning: `distplot` is a deprecated function and will be removed in a future version. Please adapt your code to use either `displot` (a figure-level function with similar flexibility) or `histplot` (an axes-level function for histograms).\n",
      "  warnings.warn(msg, FutureWarning)\n",
      "/usr/local/lib/python3.7/dist-packages/seaborn/distributions.py:2056: FutureWarning: The `axis` variable is no longer used and will be removed. Instead, assign variables directly to `x` or `y`.\n",
      "  warnings.warn(msg, FutureWarning)\n"
     ]
    },
    {
     "data": {
      "text/plain": [
       "<matplotlib.axes._subplots.AxesSubplot at 0x7fcad8a6c8d0>"
      ]
     },
     "execution_count": 46,
     "metadata": {
      "tags": []
     },
     "output_type": "execute_result"
    },
    {
     "data": {
      "image/png": "[encoded data removed]",
      "text/plain": [
       "<Figure size 432x288 with 4 Axes>"
      ]
     },
     "metadata": {
      "tags": []
     },
     "output_type": "display_data"
    }
   ],
   "source": [
    "f,axes = plt.subplots(2,2)\n",
    "sns.distplot(df[\"alcalinity of ash\"], bins=10, hist = True, kde=True,rug = True, kde_kws={\"color\":\"g\",\"alpha\":0.3, \"linewidth\":3,\"shade\":True},ax=axes[0,0])\n",
    "sns.distplot(df[\"magnesium\"],bins =10, hist = True, kde=True,rug = True, kde_kws={\"color\":\"g\",\"alpha\":0.3, \"linewidth\":3,\"shade\":True},ax=axes[0,1])\n",
    "sns.distplot(df[\"total phenols\"],bins =10, hist = True, kde=True,rug = True, kde_kws={\"color\":\"g\",\"alpha\":0.3, \"linewidth\":3,\"shade\":True},ax=axes[1,0])\n",
    "sns.distplot(df[\"flavanoids\"],bins =10, hist = True, kde=True,rug = True, kde_kws={\"color\":\"g\",\"alpha\":0.3, \"linewidth\":3,\"shade\":True},ax=axes[1,1])"
   ]
  },
  {
   "cell_type": "code",
   "execution_count": null,
   "metadata": {
    "colab": {
     "base_uri": "https://localhost:8080/",
     "height": 608
    },
    "executionInfo": {
     "elapsed": 2103,
     "status": "ok",
     "timestamp": 1626755999589,
     "user": {
      "displayName": "‍임혜리[ 학부재학 / 보건정책관리학부 ]",
      "photoUrl": "",
      "userId": "06644481061053667211"
     },
     "user_tz": -540
    },
    "id": "aSIeXqJMNSJ5",
    "outputId": "d729ce9e-6173-4aa9-bc18-882033d3d952"
   },
   "outputs": [
    {
     "name": "stderr",
     "output_type": "stream",
     "text": [
      "/usr/local/lib/python3.7/dist-packages/seaborn/distributions.py:2557: FutureWarning: `distplot` is a deprecated function and will be removed in a future version. Please adapt your code to use either `displot` (a figure-level function with similar flexibility) or `histplot` (an axes-level function for histograms).\n",
      "  warnings.warn(msg, FutureWarning)\n",
      "/usr/local/lib/python3.7/dist-packages/seaborn/distributions.py:2056: FutureWarning: The `axis` variable is no longer used and will be removed. Instead, assign variables directly to `x` or `y`.\n",
      "  warnings.warn(msg, FutureWarning)\n",
      "/usr/local/lib/python3.7/dist-packages/seaborn/distributions.py:2557: FutureWarning: `distplot` is a deprecated function and will be removed in a future version. Please adapt your code to use either `displot` (a figure-level function with similar flexibility) or `histplot` (an axes-level function for histograms).\n",
      "  warnings.warn(msg, FutureWarning)\n",
      "/usr/local/lib/python3.7/dist-packages/seaborn/distributions.py:2056: FutureWarning: The `axis` variable is no longer used and will be removed. Instead, assign variables directly to `x` or `y`.\n",
      "  warnings.warn(msg, FutureWarning)\n",
      "/usr/local/lib/python3.7/dist-packages/seaborn/distributions.py:2557: FutureWarning: `distplot` is a deprecated function and will be removed in a future version. Please adapt your code to use either `displot` (a figure-level function with similar flexibility) or `histplot` (an axes-level function for histograms).\n",
      "  warnings.warn(msg, FutureWarning)\n",
      "/usr/local/lib/python3.7/dist-packages/seaborn/distributions.py:2056: FutureWarning: The `axis` variable is no longer used and will be removed. Instead, assign variables directly to `x` or `y`.\n",
      "  warnings.warn(msg, FutureWarning)\n",
      "/usr/local/lib/python3.7/dist-packages/seaborn/distributions.py:2557: FutureWarning: `distplot` is a deprecated function and will be removed in a future version. Please adapt your code to use either `displot` (a figure-level function with similar flexibility) or `histplot` (an axes-level function for histograms).\n",
      "  warnings.warn(msg, FutureWarning)\n",
      "/usr/local/lib/python3.7/dist-packages/seaborn/distributions.py:2056: FutureWarning: The `axis` variable is no longer used and will be removed. Instead, assign variables directly to `x` or `y`.\n",
      "  warnings.warn(msg, FutureWarning)\n"
     ]
    },
    {
     "data": {
      "text/plain": [
       "<matplotlib.axes._subplots.AxesSubplot at 0x7fcad86c7c10>"
      ]
     },
     "execution_count": 48,
     "metadata": {
      "tags": []
     },
     "output_type": "execute_result"
    },
    {
     "data": {
      "image/png": "[encoded data removed]",
      "text/plain": [
       "<Figure size 432x288 with 4 Axes>"
      ]
     },
     "metadata": {
      "tags": []
     },
     "output_type": "display_data"
    }
   ],
   "source": [
    "f,axes = plt.subplots(2,2)\n",
    "sns.distplot(df[\"nonflavanoid phenols\"], bins=10, hist = True, kde=True,rug = True, kde_kws={\"color\":\"g\",\"alpha\":0.3, \"linewidth\":3,\"shade\":True},ax=axes[0,0])\n",
    "sns.distplot(df[\"proanthocyanins\"],bins =10, hist = True, kde=True,rug = True, kde_kws={\"color\":\"g\",\"alpha\":0.3, \"linewidth\":3,\"shade\":True},ax=axes[0,1])\n",
    "sns.distplot(df[\"color intensity\"],bins =10, hist = True, kde=True,rug = True, kde_kws={\"color\":\"g\",\"alpha\":0.3, \"linewidth\":3,\"shade\":True},ax=axes[1,0])\n",
    "sns.distplot(df[\"hue\"],bins =10, hist = True, kde=True,rug = True, kde_kws={\"color\":\"g\",\"alpha\":0.3, \"linewidth\":3,\"shade\":True},ax=axes[1,1])\n"
   ]
  },
  {
   "cell_type": "code",
   "execution_count": null,
   "metadata": {
    "colab": {
     "base_uri": "https://localhost:8080/",
     "height": 448
    },
    "executionInfo": {
     "elapsed": 1788,
     "status": "ok",
     "timestamp": 1626757097336,
     "user": {
      "displayName": "‍임혜리[ 학부재학 / 보건정책관리학부 ]",
      "photoUrl": "",
      "userId": "06644481061053667211"
     },
     "user_tz": -540
    },
    "id": "xH5xM-wMNsTR",
    "outputId": "cc27b645-7945-4654-f2d1-23bbf6785105"
   },
   "outputs": [
    {
     "name": "stderr",
     "output_type": "stream",
     "text": [
      "/usr/local/lib/python3.7/dist-packages/seaborn/distributions.py:2557: FutureWarning: `distplot` is a deprecated function and will be removed in a future version. Please adapt your code to use either `displot` (a figure-level function with similar flexibility) or `histplot` (an axes-level function for histograms).\n",
      "  warnings.warn(msg, FutureWarning)\n",
      "/usr/local/lib/python3.7/dist-packages/seaborn/distributions.py:2056: FutureWarning: The `axis` variable is no longer used and will be removed. Instead, assign variables directly to `x` or `y`.\n",
      "  warnings.warn(msg, FutureWarning)\n",
      "/usr/local/lib/python3.7/dist-packages/seaborn/distributions.py:2557: FutureWarning: `distplot` is a deprecated function and will be removed in a future version. Please adapt your code to use either `displot` (a figure-level function with similar flexibility) or `histplot` (an axes-level function for histograms).\n",
      "  warnings.warn(msg, FutureWarning)\n",
      "/usr/local/lib/python3.7/dist-packages/seaborn/distributions.py:2056: FutureWarning: The `axis` variable is no longer used and will be removed. Instead, assign variables directly to `x` or `y`.\n",
      "  warnings.warn(msg, FutureWarning)\n"
     ]
    },
    {
     "data": {
      "text/plain": [
       "<matplotlib.axes._subplots.AxesSubplot at 0x7fcad7c88710>"
      ]
     },
     "execution_count": 59,
     "metadata": {
      "tags": []
     },
     "output_type": "execute_result"
    },
    {
     "data": {
      "image/png": "[encoded data removed]",
      "text/plain": [
       "<Figure size 432x288 with 4 Axes>"
      ]
     },
     "metadata": {
      "tags": []
     },
     "output_type": "display_data"
    }
   ],
   "source": [
    "f,axes = plt.subplots(2,2)\n",
    "sns.distplot(df[\"OD280\"], bins=10, hist = True, kde=True,rug = True, kde_kws={\"color\":\"g\",\"alpha\":0.3, \"linewidth\":3,\"shade\":True},ax=axes[0,0])\n",
    "sns.distplot(df[\"proline\"],bins =10, hist = True, kde=True,rug = True, kde_kws={\"color\":\"g\",\"alpha\":0.3, \"linewidth\":3,\"shade\":True},ax=axes[0,1])"
   ]
  },
  {
   "cell_type": "code",
   "execution_count": null,
   "metadata": {
    "id": "8xlQVh8Ja4r1"
   },
   "outputs": [],
   "source": [
    "#탐색적 데이터 분석 및 데이터 전처리\n",
    "\n",
    "X = pd.DataFrame(dat_wine, columns=['alchohol', 'malic acid', 'ash', \n",
    "                    'alcalinity of ash', 'magnesium', 'total phenols', \n",
    "                    'flavanoids', 'nonflavanoid phenols', \n",
    "                    'proanthocyanins', 'color intensity', 'hue', \n",
    "                    'OD280', 'proline'])\n",
    "y = pd.DataFrame(dat_wine, columns=[\"class label\"])"
   ]
  },
  {
   "cell_type": "markdown",
   "metadata": {
    "id": "pL_lz7Nbl5lW"
   },
   "source": []
  },
  {
   "cell_type": "code",
   "execution_count": null,
   "metadata": {
    "colab": {
     "base_uri": "https://localhost:8080/",
     "height": 204
    },
    "executionInfo": {
     "elapsed": 388,
     "status": "ok",
     "timestamp": 1626761523571,
     "user": {
      "displayName": "‍임혜리[ 학부재학 / 보건정책관리학부 ]",
      "photoUrl": "",
      "userId": "06644481061053667211"
     },
     "user_tz": -540
    },
    "id": "wWa1F1GwbMN6",
    "outputId": "b06fb90d-263d-4834-e200-659bbe4f3f29"
   },
   "outputs": [
    {
     "data": {
      "text/html": [
       "<div>\n",
       "<style scoped>\n",
       "    .dataframe tbody tr th:only-of-type {\n",
       "        vertical-align: middle;\n",
       "    }\n",
       "\n",
       "    .dataframe tbody tr th {\n",
       "        vertical-align: top;\n",
       "    }\n",
       "\n",
       "    .dataframe thead th {\n",
       "        text-align: right;\n",
       "    }\n",
       "</style>\n",
       "<table border=\"1\" class=\"dataframe\">\n",
       "  <thead>\n",
       "    <tr style=\"text-align: right;\">\n",
       "      <th></th>\n",
       "      <th>alchohol</th>\n",
       "      <th>malic acid</th>\n",
       "      <th>ash</th>\n",
       "      <th>alcalinity of ash</th>\n",
       "      <th>magnesium</th>\n",
       "      <th>total phenols</th>\n",
       "      <th>flavanoids</th>\n",
       "      <th>nonflavanoid phenols</th>\n",
       "      <th>proanthocyanins</th>\n",
       "      <th>color intensity</th>\n",
       "      <th>hue</th>\n",
       "      <th>OD280</th>\n",
       "      <th>proline</th>\n",
       "    </tr>\n",
       "  </thead>\n",
       "  <tbody>\n",
       "    <tr>\n",
       "      <th>0</th>\n",
       "      <td>14.23</td>\n",
       "      <td>1.71</td>\n",
       "      <td>2.43</td>\n",
       "      <td>15.6</td>\n",
       "      <td>127</td>\n",
       "      <td>2.80</td>\n",
       "      <td>3.06</td>\n",
       "      <td>0.28</td>\n",
       "      <td>2.29</td>\n",
       "      <td>5.64</td>\n",
       "      <td>1.04</td>\n",
       "      <td>3.92</td>\n",
       "      <td>1065</td>\n",
       "    </tr>\n",
       "    <tr>\n",
       "      <th>1</th>\n",
       "      <td>13.20</td>\n",
       "      <td>1.78</td>\n",
       "      <td>2.14</td>\n",
       "      <td>11.2</td>\n",
       "      <td>100</td>\n",
       "      <td>2.65</td>\n",
       "      <td>2.76</td>\n",
       "      <td>0.26</td>\n",
       "      <td>1.28</td>\n",
       "      <td>4.38</td>\n",
       "      <td>1.05</td>\n",
       "      <td>3.40</td>\n",
       "      <td>1050</td>\n",
       "    </tr>\n",
       "    <tr>\n",
       "      <th>2</th>\n",
       "      <td>13.16</td>\n",
       "      <td>2.36</td>\n",
       "      <td>2.67</td>\n",
       "      <td>18.6</td>\n",
       "      <td>101</td>\n",
       "      <td>2.80</td>\n",
       "      <td>3.24</td>\n",
       "      <td>0.30</td>\n",
       "      <td>2.81</td>\n",
       "      <td>5.68</td>\n",
       "      <td>1.03</td>\n",
       "      <td>3.17</td>\n",
       "      <td>1185</td>\n",
       "    </tr>\n",
       "    <tr>\n",
       "      <th>3</th>\n",
       "      <td>14.37</td>\n",
       "      <td>1.95</td>\n",
       "      <td>2.50</td>\n",
       "      <td>16.8</td>\n",
       "      <td>113</td>\n",
       "      <td>3.85</td>\n",
       "      <td>3.49</td>\n",
       "      <td>0.24</td>\n",
       "      <td>2.18</td>\n",
       "      <td>7.80</td>\n",
       "      <td>0.86</td>\n",
       "      <td>3.45</td>\n",
       "      <td>1480</td>\n",
       "    </tr>\n",
       "    <tr>\n",
       "      <th>4</th>\n",
       "      <td>13.24</td>\n",
       "      <td>2.59</td>\n",
       "      <td>2.87</td>\n",
       "      <td>21.0</td>\n",
       "      <td>118</td>\n",
       "      <td>2.80</td>\n",
       "      <td>2.69</td>\n",
       "      <td>0.39</td>\n",
       "      <td>1.82</td>\n",
       "      <td>4.32</td>\n",
       "      <td>1.04</td>\n",
       "      <td>2.93</td>\n",
       "      <td>735</td>\n",
       "    </tr>\n",
       "  </tbody>\n",
       "</table>\n",
       "</div>"
      ],
      "text/plain": [
       "   alchohol  malic acid   ash  ...   hue  OD280  proline\n",
       "0     14.23        1.71  2.43  ...  1.04   3.92     1065\n",
       "1     13.20        1.78  2.14  ...  1.05   3.40     1050\n",
       "2     13.16        2.36  2.67  ...  1.03   3.17     1185\n",
       "3     14.37        1.95  2.50  ...  0.86   3.45     1480\n",
       "4     13.24        2.59  2.87  ...  1.04   2.93      735\n",
       "\n",
       "[5 rows x 13 columns]"
      ]
     },
     "execution_count": 90,
     "metadata": {
      "tags": []
     },
     "output_type": "execute_result"
    }
   ],
   "source": [
    "X.head()"
   ]
  },
  {
   "cell_type": "code",
   "execution_count": null,
   "metadata": {
    "colab": {
     "base_uri": "https://localhost:8080/",
     "height": 204
    },
    "executionInfo": {
     "elapsed": 447,
     "status": "ok",
     "timestamp": 1626761526332,
     "user": {
      "displayName": "‍임혜리[ 학부재학 / 보건정책관리학부 ]",
      "photoUrl": "",
      "userId": "06644481061053667211"
     },
     "user_tz": -540
    },
    "id": "WLnnfTLdcy_R",
    "outputId": "3e2c14b3-868f-46c2-80a1-94db1793b7ba"
   },
   "outputs": [
    {
     "data": {
      "text/html": [
       "<div>\n",
       "<style scoped>\n",
       "    .dataframe tbody tr th:only-of-type {\n",
       "        vertical-align: middle;\n",
       "    }\n",
       "\n",
       "    .dataframe tbody tr th {\n",
       "        vertical-align: top;\n",
       "    }\n",
       "\n",
       "    .dataframe thead th {\n",
       "        text-align: right;\n",
       "    }\n",
       "</style>\n",
       "<table border=\"1\" class=\"dataframe\">\n",
       "  <thead>\n",
       "    <tr style=\"text-align: right;\">\n",
       "      <th></th>\n",
       "      <th>class label</th>\n",
       "    </tr>\n",
       "  </thead>\n",
       "  <tbody>\n",
       "    <tr>\n",
       "      <th>173</th>\n",
       "      <td>3</td>\n",
       "    </tr>\n",
       "    <tr>\n",
       "      <th>174</th>\n",
       "      <td>3</td>\n",
       "    </tr>\n",
       "    <tr>\n",
       "      <th>175</th>\n",
       "      <td>3</td>\n",
       "    </tr>\n",
       "    <tr>\n",
       "      <th>176</th>\n",
       "      <td>3</td>\n",
       "    </tr>\n",
       "    <tr>\n",
       "      <th>177</th>\n",
       "      <td>3</td>\n",
       "    </tr>\n",
       "  </tbody>\n",
       "</table>\n",
       "</div>"
      ],
      "text/plain": [
       "     class label\n",
       "173            3\n",
       "174            3\n",
       "175            3\n",
       "176            3\n",
       "177            3"
      ]
     },
     "execution_count": 91,
     "metadata": {
      "tags": []
     },
     "output_type": "execute_result"
    }
   ],
   "source": [
    "y.tail()"
   ]
  },
  {
   "cell_type": "code",
   "execution_count": null,
   "metadata": {
    "colab": {
     "base_uri": "https://localhost:8080/"
    },
    "executionInfo": {
     "elapsed": 400,
     "status": "ok",
     "timestamp": 1626761529095,
     "user": {
      "displayName": "‍임혜리[ 학부재학 / 보건정책관리학부 ]",
      "photoUrl": "",
      "userId": "06644481061053667211"
     },
     "user_tz": -540
    },
    "id": "ALTWgADWc-KL",
    "outputId": "a801d2e3-7cb0-4167-df2c-f5789bfd2b95"
   },
   "outputs": [
    {
     "data": {
      "text/plain": [
       "2    71\n",
       "1    59\n",
       "3    48\n",
       "Name: class label, dtype: int64"
      ]
     },
     "execution_count": 92,
     "metadata": {
      "tags": []
     },
     "output_type": "execute_result"
    }
   ],
   "source": [
    "y['class label'].value_counts()"
   ]
  },
  {
   "cell_type": "code",
   "execution_count": null,
   "metadata": {
    "id": "IcXholnFdZZL"
   },
   "outputs": [],
   "source": [
    "#모듈 불러오기\n",
    "from sklearn.preprocessing import StandardScaler\n",
    "from sklearn.model_selection import cross_val_score\n",
    "from sklearn.neighbors import KNeighborsClassifier\n",
    "from sklearn.neighbors import NearestNeighbors\n",
    "from sklearn.metrics import accuracy_score, recall_score, precision_score\n",
    "from tqdm import tqdm\n",
    "\n",
    "from sklearn.neighbors import NearestNeighbors\n",
    "from sklearn.model_selection import KFold\n",
    "from scipy.stats import spearmanr\n",
    "from sklearn.model_selection import train_test_split\n",
    "from sklearn.tree import DecisionTreeClassifier\n",
    "\n",
    "#Train/Test 데이터 분리"
   ]
  },
  {
   "cell_type": "code",
   "execution_count": null,
   "metadata": {
    "id": "8btN-Qm6eX1j"
   },
   "outputs": [],
   "source": [
    "X_train, X_test, y_train, y_test = train_test_split(X, y, stratify = y)"
   ]
  },
  {
   "cell_type": "code",
   "execution_count": null,
   "metadata": {
    "id": "1klrWWOpk_NE"
   },
   "outputs": [],
   "source": [
    "#데이터 컬럼 단위 정규화 하기\n",
    "normalizer = StandardScaler()\n",
    "X_train = normalizer.fit_transform(X_train)\n",
    "X_test = normalizer.transform(X_test)"
   ]
  },
  {
   "cell_type": "code",
   "execution_count": null,
   "metadata": {
    "colab": {
     "base_uri": "https://localhost:8080/"
    },
    "executionInfo": {
     "elapsed": 347,
     "status": "ok",
     "timestamp": 1626762276735,
     "user": {
      "displayName": "‍임혜리[ 학부재학 / 보건정책관리학부 ]",
      "photoUrl": "",
      "userId": "06644481061053667211"
     },
     "user_tz": -540
    },
    "id": "i5CescC7lhC-",
    "outputId": "aa330eb3-d833-4524-fb7e-bb9798b46998"
   },
   "outputs": [
    {
     "name": "stdout",
     "output_type": "stream",
     "text": [
      "(133, 13)\n",
      "(45, 13)\n"
     ]
    }
   ],
   "source": [
    "print(X_train.shape)\n",
    "print(X_test.shape)"
   ]
  },
  {
   "cell_type": "code",
   "execution_count": null,
   "metadata": {
    "colab": {
     "base_uri": "https://localhost:8080/"
    },
    "executionInfo": {
     "elapsed": 349,
     "status": "ok",
     "timestamp": 1626765094027,
     "user": {
      "displayName": "‍임혜리[ 학부재학 / 보건정책관리학부 ]",
      "photoUrl": "",
      "userId": "06644481061053667211"
     },
     "user_tz": -540
    },
    "id": "f3aquO1ul-iY",
    "outputId": "7f4327e5-15e9-4fd3-b0c8-32cb6cc162f9"
   },
   "outputs": [
    {
     "data": {
      "text/plain": [
       "KNeighborsClassifier(algorithm='auto', leaf_size=30, metric='minkowski',\n",
       "                     metric_params=None, n_jobs=None, n_neighbors=1, p=2,\n",
       "                     weights='uniform')"
      ]
     },
     "execution_count": 130,
     "metadata": {
      "tags": []
     },
     "output_type": "execute_result"
    }
   ],
   "source": [
    "#KNN에서 uniform(default) 각 이웃에 동일한 가중치\n",
    "\n",
    "knn = KNeighborsClassifier(n_neighbors=1)\n",
    "knn.fit(X_train, y_train.values.ravel())"
   ]
  },
  {
   "cell_type": "code",
   "execution_count": null,
   "metadata": {
    "colab": {
     "base_uri": "https://localhost:8080/"
    },
    "executionInfo": {
     "elapsed": 337,
     "status": "ok",
     "timestamp": 1626765250091,
     "user": {
      "displayName": "‍임혜리[ 학부재학 / 보건정책관리학부 ]",
      "photoUrl": "",
      "userId": "06644481061053667211"
     },
     "user_tz": -540
    },
    "id": "Lv66DxJTo_zc",
    "outputId": "1452c894-4e07-4931-c6e6-84baf1b1eef1"
   },
   "outputs": [
    {
     "name": "stdout",
     "output_type": "stream",
     "text": [
      "0.8666666666666667\n"
     ]
    }
   ],
   "source": [
    "#모델 정확도\n",
    "print(knn.score(X_test,y_test))"
   ]
  },
  {
   "cell_type": "code",
   "execution_count": null,
   "metadata": {
    "colab": {
     "base_uri": "https://localhost:8080/"
    },
    "executionInfo": {
     "elapsed": 312,
     "status": "ok",
     "timestamp": 1626765265314,
     "user": {
      "displayName": "‍임혜리[ 학부재학 / 보건정책관리학부 ]",
      "photoUrl": "",
      "userId": "06644481061053667211"
     },
     "user_tz": -540
    },
    "id": "CHQOxSGdrk0J",
    "outputId": "f6a6b7b0-7ed4-4c81-8a47-b2582b7076c0"
   },
   "outputs": [
    {
     "data": {
      "text/plain": [
       "KNeighborsClassifier(algorithm='auto', leaf_size=30, metric='minkowski',\n",
       "                     metric_params=None, n_jobs=None, n_neighbors=5, p=2,\n",
       "                     weights='uniform')"
      ]
     },
     "execution_count": 132,
     "metadata": {
      "tags": []
     },
     "output_type": "execute_result"
    }
   ],
   "source": [
    "knn1 = KNeighborsClassifier(n_neighbors=5)\n",
    "knn1.fit(X_train, y_train.values.ravel())"
   ]
  },
  {
   "cell_type": "code",
   "execution_count": null,
   "metadata": {
    "colab": {
     "base_uri": "https://localhost:8080/"
    },
    "executionInfo": {
     "elapsed": 395,
     "status": "ok",
     "timestamp": 1626765268315,
     "user": {
      "displayName": "‍임혜리[ 학부재학 / 보건정책관리학부 ]",
      "photoUrl": "",
      "userId": "06644481061053667211"
     },
     "user_tz": -540
    },
    "id": "yIPEigFRrovd",
    "outputId": "c2ae2bcb-b0df-46f9-c802-2a798b95afcf"
   },
   "outputs": [
    {
     "name": "stdout",
     "output_type": "stream",
     "text": [
      "0.9111111111111111\n"
     ]
    }
   ],
   "source": [
    "print(knn1.score(X_test,y_test))"
   ]
  },
  {
   "cell_type": "code",
   "execution_count": null,
   "metadata": {
    "colab": {
     "base_uri": "https://localhost:8080/"
    },
    "executionInfo": {
     "elapsed": 359,
     "status": "ok",
     "timestamp": 1626765289618,
     "user": {
      "displayName": "‍임혜리[ 학부재학 / 보건정책관리학부 ]",
      "photoUrl": "",
      "userId": "06644481061053667211"
     },
     "user_tz": -540
    },
    "id": "QNkeQM3xseAZ",
    "outputId": "a1a585fe-f343-4757-e21d-2a9918473c90"
   },
   "outputs": [
    {
     "data": {
      "text/plain": [
       "KNeighborsClassifier(algorithm='auto', leaf_size=30, metric='minkowski',\n",
       "                     metric_params=None, n_jobs=None, n_neighbors=10, p=2,\n",
       "                     weights='uniform')"
      ]
     },
     "execution_count": 135,
     "metadata": {
      "tags": []
     },
     "output_type": "execute_result"
    }
   ],
   "source": [
    "knn2 = KNeighborsClassifier(n_neighbors=10)\n",
    "knn2.fit(X_test, y_test.values.ravel())"
   ]
  },
  {
   "cell_type": "code",
   "execution_count": null,
   "metadata": {
    "colab": {
     "base_uri": "https://localhost:8080/"
    },
    "executionInfo": {
     "elapsed": 395,
     "status": "ok",
     "timestamp": 1626765293503,
     "user": {
      "displayName": "‍임혜리[ 학부재학 / 보건정책관리학부 ]",
      "photoUrl": "",
      "userId": "06644481061053667211"
     },
     "user_tz": -540
    },
    "id": "wa5ES14zslp5",
    "outputId": "c3baa2e9-5bcd-47b8-cf14-decf5c3350ac"
   },
   "outputs": [
    {
     "name": "stdout",
     "output_type": "stream",
     "text": [
      "0.8888888888888888\n"
     ]
    }
   ],
   "source": [
    "print(knn2.score(X_test,y_test))"
   ]
  },
  {
   "cell_type": "code",
   "execution_count": null,
   "metadata": {
    "colab": {
     "base_uri": "https://localhost:8080/"
    },
    "executionInfo": {
     "elapsed": 4,
     "status": "ok",
     "timestamp": 1626765301925,
     "user": {
      "displayName": "‍임혜리[ 학부재학 / 보건정책관리학부 ]",
      "photoUrl": "",
      "userId": "06644481061053667211"
     },
     "user_tz": -540
    },
    "id": "nSrAchGKs9O0",
    "outputId": "3a31772b-7792-4489-962b-948cd8868e9c"
   },
   "outputs": [
    {
     "data": {
      "text/plain": [
       "KNeighborsClassifier(algorithm='auto', leaf_size=30, metric='minkowski',\n",
       "                     metric_params=None, n_jobs=None, n_neighbors=30, p=2,\n",
       "                     weights='uniform')"
      ]
     },
     "execution_count": 137,
     "metadata": {
      "tags": []
     },
     "output_type": "execute_result"
    }
   ],
   "source": [
    "knn3 = KNeighborsClassifier(n_neighbors=30)\n",
    "knn3.fit(X_test, y_test.values.ravel())"
   ]
  },
  {
   "cell_type": "code",
   "execution_count": null,
   "metadata": {
    "colab": {
     "base_uri": "https://localhost:8080/"
    },
    "executionInfo": {
     "elapsed": 240,
     "status": "ok",
     "timestamp": 1626767281614,
     "user": {
      "displayName": "‍임혜리[ 학부재학 / 보건정책관리학부 ]",
      "photoUrl": "",
      "userId": "06644481061053667211"
     },
     "user_tz": -540
    },
    "id": "vCV-t_97tBkY",
    "outputId": "587f3ec9-82d2-4ed5-da2e-92d8de795e65"
   },
   "outputs": [
    {
     "name": "stdout",
     "output_type": "stream",
     "text": [
      "0.7333333333333333\n"
     ]
    }
   ],
   "source": [
    "print(knn3.score(X_test,y_test))"
   ]
  },
  {
   "cell_type": "code",
   "execution_count": null,
   "metadata": {
    "colab": {
     "base_uri": "https://localhost:8080/"
    },
    "executionInfo": {
     "elapsed": 312,
     "status": "ok",
     "timestamp": 1626768980482,
     "user": {
      "displayName": "‍임혜리[ 학부재학 / 보건정책관리학부 ]",
      "photoUrl": "",
      "userId": "06644481061053667211"
     },
     "user_tz": -540
    },
    "id": "q13cm9uz6Wou",
    "outputId": "229e6d3e-0dd5-446c-e690-2dc5a1b75bee"
   },
   "outputs": [
    {
     "name": "stdout",
     "output_type": "stream",
     "text": [
      "[[15  0  0]\n",
      " [ 3 12  3]\n",
      " [ 0  0 12]]\n"
     ]
    }
   ],
   "source": [
    "result = knn.predict(X_test)\n",
    "from sklearn.metrics import confusion_matrix\n",
    "a = confusion_matrix(y_test,result )\n",
    "print(a)\n"
   ]
  },
  {
   "cell_type": "code",
   "execution_count": null,
   "metadata": {
    "colab": {
     "base_uri": "https://localhost:8080/"
    },
    "executionInfo": {
     "elapsed": 244,
     "status": "ok",
     "timestamp": 1626769075062,
     "user": {
      "displayName": "‍임혜리[ 학부재학 / 보건정책관리학부 ]",
      "photoUrl": "",
      "userId": "06644481061053667211"
     },
     "user_tz": -540
    },
    "id": "E7j_OPRp_cNw",
    "outputId": "718f98fa-00b0-4643-ca2e-898b9cc7656c"
   },
   "outputs": [
    {
     "name": "stdout",
     "output_type": "stream",
     "text": [
      "[[15  0  0]\n",
      " [ 2 14  2]\n",
      " [ 0  0 12]]\n"
     ]
    }
   ],
   "source": [
    "result1 = knn1.predict(X_test)\n",
    "b = confusion_matrix(y_test,result1 )\n",
    "print(b)"
   ]
  },
  {
   "cell_type": "code",
   "execution_count": null,
   "metadata": {
    "colab": {
     "base_uri": "https://localhost:8080/"
    },
    "executionInfo": {
     "elapsed": 352,
     "status": "ok",
     "timestamp": 1626769132445,
     "user": {
      "displayName": "‍임혜리[ 학부재학 / 보건정책관리학부 ]",
      "photoUrl": "",
      "userId": "06644481061053667211"
     },
     "user_tz": -540
    },
    "id": "WieBmTDJ_sBj",
    "outputId": "b9737413-3ee1-4fdb-bedf-b69fd54adab5"
   },
   "outputs": [
    {
     "name": "stdout",
     "output_type": "stream",
     "text": [
      "[[15  0  0]\n",
      " [ 4 13  1]\n",
      " [ 0  0 12]]\n"
     ]
    }
   ],
   "source": [
    "result2 = knn2.predict(X_test)\n",
    "c = confusion_matrix(y_test,result2 )\n",
    "print(c)"
   ]
  },
  {
   "cell_type": "code",
   "execution_count": null,
   "metadata": {
    "colab": {
     "base_uri": "https://localhost:8080/"
    },
    "executionInfo": {
     "elapsed": 324,
     "status": "ok",
     "timestamp": 1626769157227,
     "user": {
      "displayName": "‍임혜리[ 학부재학 / 보건정책관리학부 ]",
      "photoUrl": "",
      "userId": "06644481061053667211"
     },
     "user_tz": -540
    },
    "id": "rKYNnuZp_x7L",
    "outputId": "8e2418fc-2084-40d7-85a4-d53406704cd6"
   },
   "outputs": [
    {
     "name": "stdout",
     "output_type": "stream",
     "text": [
      "[[14  1  0]\n",
      " [ 3 15  0]\n",
      " [ 0  8  4]]\n"
     ]
    }
   ],
   "source": [
    "result3 = knn3.predict(X_test)\n",
    "c = confusion_matrix(y_test,result3 )\n",
    "print(c)"
   ]
  },
  {
   "cell_type": "code",
   "execution_count": null,
   "metadata": {
    "colab": {
     "base_uri": "https://localhost:8080/"
    },
    "executionInfo": {
     "elapsed": 309,
     "status": "ok",
     "timestamp": 1626769500365,
     "user": {
      "displayName": "‍임혜리[ 학부재학 / 보건정책관리학부 ]",
      "photoUrl": "",
      "userId": "06644481061053667211"
     },
     "user_tz": -540
    },
    "id": "8sXVBMKSAOiP",
    "outputId": "2f5951ef-111a-410c-9fda-d86532217fc3"
   },
   "outputs": [
    {
     "data": {
      "text/plain": [
       "KNeighborsClassifier(algorithm='auto', leaf_size=30, metric='minkowski',\n",
       "                     metric_params=None, n_jobs=None, n_neighbors=1, p=2,\n",
       "                     weights='distance')"
      ]
     },
     "execution_count": 159,
     "metadata": {
      "tags": []
     },
     "output_type": "execute_result"
    }
   ],
   "source": [
    "#KNN에서 weight = \"distance\" 가까운 이웃에 더 큰 영향력\n",
    "knnn = KNeighborsClassifier(n_neighbors=1,weights=\"distance\")\n",
    "knnn.fit(X_train, y_train.values.ravel())"
   ]
  },
  {
   "cell_type": "code",
   "execution_count": null,
   "metadata": {
    "colab": {
     "base_uri": "https://localhost:8080/"
    },
    "executionInfo": {
     "elapsed": 314,
     "status": "ok",
     "timestamp": 1626769537543,
     "user": {
      "displayName": "‍임혜리[ 학부재학 / 보건정책관리학부 ]",
      "photoUrl": "",
      "userId": "06644481061053667211"
     },
     "user_tz": -540
    },
    "id": "cTam4dfcBR21",
    "outputId": "9173761b-0f38-430c-c144-70511fe2eb5c"
   },
   "outputs": [
    {
     "name": "stdout",
     "output_type": "stream",
     "text": [
      "0.8666666666666667\n"
     ]
    }
   ],
   "source": [
    "#모델 정확도\n",
    "print(knnn.score(X_test,y_test))"
   ]
  },
  {
   "cell_type": "code",
   "execution_count": null,
   "metadata": {
    "colab": {
     "base_uri": "https://localhost:8080/"
    },
    "executionInfo": {
     "elapsed": 340,
     "status": "ok",
     "timestamp": 1626769608813,
     "user": {
      "displayName": "‍임혜리[ 학부재학 / 보건정책관리학부 ]",
      "photoUrl": "",
      "userId": "06644481061053667211"
     },
     "user_tz": -540
    },
    "id": "zo0OM-yZBecb",
    "outputId": "10aa2d51-ba88-450a-8745-498501db5e5e"
   },
   "outputs": [
    {
     "data": {
      "text/plain": [
       "KNeighborsClassifier(algorithm='auto', leaf_size=30, metric='minkowski',\n",
       "                     metric_params=None, n_jobs=None, n_neighbors=5, p=2,\n",
       "                     weights='distance')"
      ]
     },
     "execution_count": 161,
     "metadata": {
      "tags": []
     },
     "output_type": "execute_result"
    }
   ],
   "source": [
    "knnn1 = KNeighborsClassifier(n_neighbors=5,weights=\"distance\")\n",
    "knnn1.fit(X_train, y_train.values.ravel())"
   ]
  },
  {
   "cell_type": "code",
   "execution_count": null,
   "metadata": {
    "colab": {
     "base_uri": "https://localhost:8080/"
    },
    "executionInfo": {
     "elapsed": 320,
     "status": "ok",
     "timestamp": 1626769619772,
     "user": {
      "displayName": "‍임혜리[ 학부재학 / 보건정책관리학부 ]",
      "photoUrl": "",
      "userId": "06644481061053667211"
     },
     "user_tz": -540
    },
    "id": "3_fo91LVBlmr",
    "outputId": "03a31cf5-d667-424d-d3c3-9a2f2fafa378"
   },
   "outputs": [
    {
     "name": "stdout",
     "output_type": "stream",
     "text": [
      "0.9111111111111111\n"
     ]
    }
   ],
   "source": [
    "print(knnn1.score(X_test,y_test))"
   ]
  },
  {
   "cell_type": "code",
   "execution_count": null,
   "metadata": {
    "colab": {
     "base_uri": "https://localhost:8080/"
    },
    "executionInfo": {
     "elapsed": 324,
     "status": "ok",
     "timestamp": 1626769646286,
     "user": {
      "displayName": "‍임혜리[ 학부재학 / 보건정책관리학부 ]",
      "photoUrl": "",
      "userId": "06644481061053667211"
     },
     "user_tz": -540
    },
    "id": "_kowb3L1BqgK",
    "outputId": "eb6bddf7-7346-4c53-a84d-94fcddd95b8c"
   },
   "outputs": [
    {
     "data": {
      "text/plain": [
       "KNeighborsClassifier(algorithm='auto', leaf_size=30, metric='minkowski',\n",
       "                     metric_params=None, n_jobs=None, n_neighbors=10, p=2,\n",
       "                     weights='distance')"
      ]
     },
     "execution_count": 163,
     "metadata": {
      "tags": []
     },
     "output_type": "execute_result"
    }
   ],
   "source": [
    "knnn2 = KNeighborsClassifier(n_neighbors=10,weights=\"distance\")\n",
    "knnn2.fit(X_train, y_train.values.ravel())"
   ]
  },
  {
   "cell_type": "code",
   "execution_count": null,
   "metadata": {
    "colab": {
     "base_uri": "https://localhost:8080/"
    },
    "executionInfo": {
     "elapsed": 354,
     "status": "ok",
     "timestamp": 1626769670045,
     "user": {
      "displayName": "‍임혜리[ 학부재학 / 보건정책관리학부 ]",
      "photoUrl": "",
      "userId": "06644481061053667211"
     },
     "user_tz": -540
    },
    "id": "uh_Q2k15BurA",
    "outputId": "923f9c5e-0777-4cc0-d62a-0a8c20d1f7a7"
   },
   "outputs": [
    {
     "name": "stdout",
     "output_type": "stream",
     "text": [
      "0.9333333333333333\n"
     ]
    }
   ],
   "source": [
    "print(knnn2.score(X_test,y_test))"
   ]
  },
  {
   "cell_type": "code",
   "execution_count": null,
   "metadata": {
    "colab": {
     "base_uri": "https://localhost:8080/"
    },
    "executionInfo": {
     "elapsed": 435,
     "status": "ok",
     "timestamp": 1626769696883,
     "user": {
      "displayName": "‍임혜리[ 학부재학 / 보건정책관리학부 ]",
      "photoUrl": "",
      "userId": "06644481061053667211"
     },
     "user_tz": -540
    },
    "id": "J40ygtOsB3as",
    "outputId": "69fe3aad-2d66-4e8d-9a4c-3b386a909e9e"
   },
   "outputs": [
    {
     "data": {
      "text/plain": [
       "KNeighborsClassifier(algorithm='auto', leaf_size=30, metric='minkowski',\n",
       "                     metric_params=None, n_jobs=None, n_neighbors=30, p=2,\n",
       "                     weights='distance')"
      ]
     },
     "execution_count": 165,
     "metadata": {
      "tags": []
     },
     "output_type": "execute_result"
    }
   ],
   "source": [
    "knnn3 = KNeighborsClassifier(n_neighbors=30,weights=\"distance\")\n",
    "knnn3.fit(X_train, y_train.values.ravel())"
   ]
  },
  {
   "cell_type": "code",
   "execution_count": null,
   "metadata": {
    "colab": {
     "base_uri": "https://localhost:8080/"
    },
    "executionInfo": {
     "elapsed": 235,
     "status": "ok",
     "timestamp": 1626769708390,
     "user": {
      "displayName": "‍임혜리[ 학부재학 / 보건정책관리학부 ]",
      "photoUrl": "",
      "userId": "06644481061053667211"
     },
     "user_tz": -540
    },
    "id": "mcVrWCb4B8Da",
    "outputId": "9dd57d08-99d1-4796-8fd3-9f99773a1d64"
   },
   "outputs": [
    {
     "name": "stdout",
     "output_type": "stream",
     "text": [
      "0.9333333333333333\n"
     ]
    }
   ],
   "source": [
    "print(knnn3.score(X_test,y_test))"
   ]
  }
 ],
 "metadata": {
  "colab": {
   "authorship_tag": "ABX9TyPlfhbvjdbNvLHJ+vJztfCB",
   "collapsed_sections": [],
   "name": "KUBIG 머신러닝 2주차.ipynb",
   "provenance": []
  },
  "kernelspec": {
   "display_name": "Python 3",
   "language": "python",
   "name": "python3"
  },
  "language_info": {
   "codemirror_mode": {
    "name": "ipython",
    "version": 3
   },
   "file_extension": ".py",
   "mimetype": "text/x-python",
   "name": "python",
   "nbconvert_exporter": "python",
   "pygments_lexer": "ipython3",
   "version": "3.8.5"
  }
 },
 "nbformat": 4,
 "nbformat_minor": 1
}
