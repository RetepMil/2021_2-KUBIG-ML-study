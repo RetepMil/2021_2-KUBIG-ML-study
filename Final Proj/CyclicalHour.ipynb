{
 "cells": [
  {
   "cell_type": "code",
   "execution_count": 46,
   "metadata": {},
   "outputs": [],
   "source": [
    "import numpy as np\n",
    "import pandas as pd\n",
    "from numpy.random import randn\n",
    "\n",
    "import matplotlib.pyplot as plt\n",
    "import seaborn as sns\n",
    "import dataprep as dp\n",
    "from patsy import dmatrices\n",
    "from statsmodels.stats.outliers_influence import variance_inflation_factor\n",
    "\n",
    "from sklearn.model_selection import GridSearchCV, cross_val_score, KFold, train_test_split, cross_validate\n",
    "from sklearn.preprocessing import StandardScaler\n",
    "from sklearn.pipeline import Pipeline\n",
    "from sklearn.metrics import accuracy_score, f1_score, confusion_matrix, r2_score, mean_squared_error\n",
    "from sklearn.linear_model import LinearRegression, LogisticRegression, RANSACRegressor, Ridge, Lasso, ElasticNet\n",
    "from sklearn.ensemble import ExtraTreesRegressor, RandomForestRegressor\n",
    "\n",
    "import warnings\n",
    "warnings.filterwarnings('ignore')"
   ]
  },
  {
   "cell_type": "code",
   "execution_count": 47,
   "metadata": {},
   "outputs": [],
   "source": [
    "#Import data\n",
    "train = pd.read_csv('./data/train.csv')\n",
    "test = pd.read_csv('./data/test.csv')\n",
    "submission = pd.read_csv('./data/submission.csv')\n",
    "train.drop(['id'], axis=1, inplace=True)\n",
    "column_names = list(train.columns.values.tolist())"
   ]
  },
  {
   "cell_type": "code",
   "execution_count": 55,
   "metadata": {},
   "outputs": [
    {
     "data": {
      "text/plain": [
       "['hour',\n",
       " 'hour_bef_temperature',\n",
       " 'hour_bef_precipitation',\n",
       " 'hour_bef_windspeed',\n",
       " 'hour_bef_humidity',\n",
       " 'hour_bef_visibility',\n",
       " 'hour_bef_ozone',\n",
       " 'hour_bef_pm10',\n",
       " 'hour_bef_pm2.5',\n",
       " 'count']"
      ]
     },
     "execution_count": 55,
     "metadata": {},
     "output_type": "execute_result"
    }
   ],
   "source": [
    "column_names"
   ]
  },
  {
   "cell_type": "code",
   "execution_count": 48,
   "metadata": {},
   "outputs": [],
   "source": [
    "ex = train.copy()\n",
    "\n",
    "def encode(data, col, max_val):\n",
    "    data[col + '_sin'] = np.sin(2 * np.pi * data[col]/max_val)\n",
    "    data[col + '_cos'] = np.cos(2 * npee.pi * data[col]/max_val)\n",
    "    return data\n",
    "\n",
    "ex = encode(ex, 'hour', 23)"
   ]
  },
  {
   "cell_type": "code",
   "execution_count": 49,
   "metadata": {},
   "outputs": [],
   "source": [
    "from sklearn.experimental import enable_iterative_imputer\n",
    "from sklearn.impute import IterativeImputer\n",
    "\n",
    "ex.drop(index=[934, 1035], inplace=True)\n",
    "\n",
    "ex = IterativeImputer(random_state=2021).fit_transform(ex)\n",
    "ex = pd.DataFrame(ex)\n",
    "\n",
    "column_names_cy = column_names + ['hour_sin', 'hour_cos']\n",
    "\n",
    "ex.columns = column_names_cy"
   ]
  },
  {
   "cell_type": "code",
   "execution_count": 50,
   "metadata": {},
   "outputs": [
    {
     "name": "stdout",
     "output_type": "stream",
     "text": [
      "<class 'pandas.core.frame.DataFrame'>\n",
      "Int64Index: 1433 entries, 0 to 1456\n",
      "Data columns (total 6 columns):\n",
      " #   Column                Non-Null Count  Dtype  \n",
      "---  ------                --------------  -----  \n",
      " 0   hour                  1433 non-null   float64\n",
      " 1   hour_bef_temperature  1433 non-null   float64\n",
      " 2   hour_bef_windspeed    1433 non-null   float64\n",
      " 3   hour_bef_humidity     1433 non-null   float64\n",
      " 4   hour_bef_visibility   1433 non-null   float64\n",
      " 5   hour_bef_ozone        1433 non-null   float64\n",
      "dtypes: float64(6)\n",
      "memory usage: 78.4 KB\n"
     ]
    }
   ],
   "source": [
    "col_name=['hour', 'hour_bef_temperature', 'hour_bef_windspeed', 'hour_bef_humidity', \n",
    "          'hour_bef_visibility', 'hour_bef_ozone']\n",
    "\n",
    "for ilt in col_name:\n",
    "    Q1=ex[ilt].quantile(0.25)\n",
    "    Q3=ex[ilt].quantile(0.75)\n",
    "    IQR=Q3-Q1\n",
    "    train_delout=ex[(ex[ilt]<(Q1 - 1.5*IQR)) | (ex[ilt]>(Q3+1.5*IQR))]\n",
    "    ex=ex.drop(train_delout.index, axis=0)\n",
    "ex[col_name].info()"
   ]
  },
  {
   "cell_type": "code",
   "execution_count": 29,
   "metadata": {},
   "outputs": [],
   "source": [
    "ex = ex.reset_index(drop=True)"
   ]
  },
  {
   "cell_type": "code",
   "execution_count": 90,
   "metadata": {},
   "outputs": [],
   "source": [
    "def objective_extratree(trial):\n",
    "    params_et = {\n",
    "        \"n_estimators\": trial.suggest_int(\"n_estimators\", 100, 1000, step=100),\n",
    "        \"max_depth\": trial.suggest_int(\"max_depth\", 1, 20),\n",
    "        \"min_samples_split\": trial.suggest_int(\"min_samples_split\", 2, 4),\n",
    "        \"min_samples_leaf\": trial.suggest_int(\"min_samples_leaf\", 1, 3),\n",
    "        \"max_features\": trial.suggest_categorical(\"max_features\", [\"auto\", \"sqrt\", \"log2\", 4, 5, 6, 7, 8]),\n",
    "        \"warm_start\": trial.suggest_categorical(\"warm_start\", [True, False]),\n",
    "        \"random_state\": 2021\n",
    "    }\n",
    "    \n",
    "    X = ex[ex.columns.difference(['count', 'hour_bef_visibility'])]\n",
    "    y = ex[['count']]\n",
    "    X_train_ori, X_val_ori, y_train_ori, y_val_ori = train_test_split(X, y, test_size=0.33, random_state=2021)\n",
    "    \n",
    "    model = ExtraTreesRegressor(**params_et)\n",
    "    model.fit(X_train_ori, y_train_ori)\n",
    "    \n",
    "    pred = model.predict(X_val_ori)\n",
    "    rmse = np.sqrt(mean_squared_error(y_val_ori, pred))\n",
    "    \n",
    "    return rmse"
   ]
  },
  {
   "cell_type": "code",
   "execution_count": 91,
   "metadata": {},
   "outputs": [
    {
     "name": "stderr",
     "output_type": "stream",
     "text": [
      "\u001b[32m[I 2021-08-28 17:27:34,975]\u001b[0m A new study created in memory with name: et_optimizer\u001b[0m\n",
      "\u001b[32m[I 2021-08-28 17:27:36,498]\u001b[0m Trial 0 finished with value: 37.572102113021984 and parameters: {'n_estimators': 700, 'max_depth': 15, 'min_samples_split': 2, 'min_samples_leaf': 1, 'max_features': 'auto', 'warm_start': True}. Best is trial 0 with value: 37.572102113021984.\u001b[0m\n",
      "\u001b[32m[I 2021-08-28 17:27:36,635]\u001b[0m Trial 1 finished with value: 37.70226370398789 and parameters: {'n_estimators': 100, 'max_depth': 12, 'min_samples_split': 3, 'min_samples_leaf': 3, 'max_features': 7, 'warm_start': False}. Best is trial 0 with value: 37.572102113021984.\u001b[0m\n",
      "\u001b[32m[I 2021-08-28 17:27:37,211]\u001b[0m Trial 2 finished with value: 50.39114831041336 and parameters: {'n_estimators': 800, 'max_depth': 2, 'min_samples_split': 4, 'min_samples_leaf': 2, 'max_features': 8, 'warm_start': True}. Best is trial 0 with value: 37.572102113021984.\u001b[0m\n",
      "\u001b[32m[I 2021-08-28 17:27:38,019]\u001b[0m Trial 3 finished with value: 37.84272456833847 and parameters: {'n_estimators': 600, 'max_depth': 9, 'min_samples_split': 4, 'min_samples_leaf': 3, 'max_features': 'auto', 'warm_start': False}. Best is trial 0 with value: 37.572102113021984.\u001b[0m\n",
      "\u001b[32m[I 2021-08-28 17:27:38,267]\u001b[0m Trial 4 finished with value: 38.21080042169579 and parameters: {'n_estimators': 200, 'max_depth': 8, 'min_samples_split': 3, 'min_samples_leaf': 3, 'max_features': 8, 'warm_start': True}. Best is trial 0 with value: 37.572102113021984.\u001b[0m\n",
      "\u001b[32m[I 2021-08-28 17:27:38,383]\u001b[0m Trial 5 finished with value: 36.96026635675119 and parameters: {'n_estimators': 100, 'max_depth': 12, 'min_samples_split': 4, 'min_samples_leaf': 1, 'max_features': 'sqrt', 'warm_start': True}. Best is trial 5 with value: 36.96026635675119.\u001b[0m\n",
      "\u001b[32m[I 2021-08-28 17:27:39,484]\u001b[0m Trial 6 finished with value: 38.02495300553167 and parameters: {'n_estimators': 1000, 'max_depth': 9, 'min_samples_split': 2, 'min_samples_leaf': 3, 'max_features': 6, 'warm_start': True}. Best is trial 5 with value: 36.96026635675119.\u001b[0m\n",
      "\u001b[32m[I 2021-08-28 17:27:40,136]\u001b[0m Trial 7 finished with value: 38.880849571696686 and parameters: {'n_estimators': 700, 'max_depth': 10, 'min_samples_split': 2, 'min_samples_leaf': 3, 'max_features': 'log2', 'warm_start': False}. Best is trial 5 with value: 36.96026635675119.\u001b[0m\n",
      "\u001b[32m[I 2021-08-28 17:27:41,240]\u001b[0m Trial 8 finished with value: 36.996709609861284 and parameters: {'n_estimators': 900, 'max_depth': 16, 'min_samples_split': 4, 'min_samples_leaf': 1, 'max_features': 'log2', 'warm_start': True}. Best is trial 5 with value: 36.96026635675119.\u001b[0m\n",
      "\u001b[32m[I 2021-08-28 17:27:41,602]\u001b[0m Trial 9 finished with value: 37.631356275123466 and parameters: {'n_estimators': 300, 'max_depth': 14, 'min_samples_split': 4, 'min_samples_leaf': 3, 'max_features': 6, 'warm_start': True}. Best is trial 5 with value: 36.96026635675119.\u001b[0m\n",
      "\u001b[32m[I 2021-08-28 17:27:42,054]\u001b[0m Trial 10 finished with value: 37.63318767369723 and parameters: {'n_estimators': 400, 'max_depth': 20, 'min_samples_split': 3, 'min_samples_leaf': 2, 'max_features': 'sqrt', 'warm_start': False}. Best is trial 5 with value: 36.96026635675119.\u001b[0m\n",
      "\u001b[32m[I 2021-08-28 17:27:43,311]\u001b[0m Trial 11 finished with value: 37.05479325781305 and parameters: {'n_estimators': 1000, 'max_depth': 18, 'min_samples_split': 4, 'min_samples_leaf': 1, 'max_features': 'log2', 'warm_start': True}. Best is trial 5 with value: 36.96026635675119.\u001b[0m\n",
      "\u001b[32m[I 2021-08-28 17:27:43,875]\u001b[0m Trial 12 finished with value: 37.118776825968965 and parameters: {'n_estimators': 400, 'max_depth': 16, 'min_samples_split': 4, 'min_samples_leaf': 1, 'max_features': 5, 'warm_start': True}. Best is trial 5 with value: 36.96026635675119.\u001b[0m\n",
      "\u001b[32m[I 2021-08-28 17:27:44,535]\u001b[0m Trial 13 finished with value: 45.51691861413739 and parameters: {'n_estimators': 900, 'max_depth': 4, 'min_samples_split': 4, 'min_samples_leaf': 1, 'max_features': 4, 'warm_start': True}. Best is trial 5 with value: 36.96026635675119.\u001b[0m\n",
      "\u001b[32m[I 2021-08-28 17:27:45,061]\u001b[0m Trial 14 finished with value: 37.51346435068685 and parameters: {'n_estimators': 500, 'max_depth': 13, 'min_samples_split': 3, 'min_samples_leaf': 2, 'max_features': 'sqrt', 'warm_start': True}. Best is trial 5 with value: 36.96026635675119.\u001b[0m\n",
      "\u001b[32m[I 2021-08-28 17:27:45,155]\u001b[0m Trial 15 finished with value: 41.929765976421976 and parameters: {'n_estimators': 100, 'max_depth': 6, 'min_samples_split': 4, 'min_samples_leaf': 1, 'max_features': 'log2', 'warm_start': True}. Best is trial 5 with value: 36.96026635675119.\u001b[0m\n",
      "\u001b[32m[I 2021-08-28 17:27:46,189]\u001b[0m Trial 16 finished with value: 36.87786533169885 and parameters: {'n_estimators': 800, 'max_depth': 17, 'min_samples_split': 3, 'min_samples_leaf': 1, 'max_features': 'sqrt', 'warm_start': True}. Best is trial 16 with value: 36.87786533169885.\u001b[0m\n",
      "\u001b[32m[I 2021-08-28 17:27:46,861]\u001b[0m Trial 17 finished with value: 37.67094744736424 and parameters: {'n_estimators': 600, 'max_depth': 20, 'min_samples_split': 3, 'min_samples_leaf': 2, 'max_features': 'sqrt', 'warm_start': True}. Best is trial 16 with value: 36.87786533169885.\u001b[0m\n",
      "\u001b[32m[I 2021-08-28 17:27:47,690]\u001b[0m Trial 18 finished with value: 37.84732000506639 and parameters: {'n_estimators': 800, 'max_depth': 12, 'min_samples_split': 3, 'min_samples_leaf': 2, 'max_features': 'sqrt', 'warm_start': False}. Best is trial 16 with value: 36.87786533169885.\u001b[0m\n",
      "\u001b[32m[I 2021-08-28 17:27:48,099]\u001b[0m Trial 19 finished with value: 36.83629976573466 and parameters: {'n_estimators': 300, 'max_depth': 18, 'min_samples_split': 3, 'min_samples_leaf': 1, 'max_features': 'sqrt', 'warm_start': True}. Best is trial 19 with value: 36.83629976573466.\u001b[0m\n",
      "\u001b[32m[I 2021-08-28 17:27:48,545]\u001b[0m Trial 20 finished with value: 37.061837371209215 and parameters: {'n_estimators': 300, 'max_depth': 19, 'min_samples_split': 3, 'min_samples_leaf': 1, 'max_features': 4, 'warm_start': True}. Best is trial 19 with value: 36.83629976573466.\u001b[0m\n",
      "\u001b[32m[I 2021-08-28 17:27:48,838]\u001b[0m Trial 21 finished with value: 36.888844924957795 and parameters: {'n_estimators': 200, 'max_depth': 17, 'min_samples_split': 3, 'min_samples_leaf': 1, 'max_features': 'sqrt', 'warm_start': True}. Best is trial 19 with value: 36.83629976573466.\u001b[0m\n",
      "\u001b[32m[I 2021-08-28 17:27:49,242]\u001b[0m Trial 22 finished with value: 36.77714133959202 and parameters: {'n_estimators': 300, 'max_depth': 17, 'min_samples_split': 3, 'min_samples_leaf': 1, 'max_features': 'sqrt', 'warm_start': True}. Best is trial 22 with value: 36.77714133959202.\u001b[0m\n",
      "\u001b[32m[I 2021-08-28 17:27:49,826]\u001b[0m Trial 23 finished with value: 36.95042163841761 and parameters: {'n_estimators': 400, 'max_depth': 18, 'min_samples_split': 2, 'min_samples_leaf': 1, 'max_features': 'sqrt', 'warm_start': True}. Best is trial 22 with value: 36.77714133959202.\u001b[0m\n",
      "\u001b[32m[I 2021-08-28 17:27:50,575]\u001b[0m Trial 24 finished with value: 37.273970899624054 and parameters: {'n_estimators': 500, 'max_depth': 15, 'min_samples_split': 3, 'min_samples_leaf': 1, 'max_features': 5, 'warm_start': True}. Best is trial 22 with value: 36.77714133959202.\u001b[0m\n",
      "\u001b[32m[I 2021-08-28 17:27:51,026]\u001b[0m Trial 25 finished with value: 37.59195129332606 and parameters: {'n_estimators': 300, 'max_depth': 18, 'min_samples_split': 3, 'min_samples_leaf': 2, 'max_features': 7, 'warm_start': True}. Best is trial 22 with value: 36.77714133959202.\u001b[0m\n",
      "\u001b[32m[I 2021-08-28 17:27:51,304]\u001b[0m Trial 26 finished with value: 36.888844924957795 and parameters: {'n_estimators': 200, 'max_depth': 17, 'min_samples_split': 3, 'min_samples_leaf': 1, 'max_features': 'sqrt', 'warm_start': True}. Best is trial 22 with value: 36.77714133959202.\u001b[0m\n",
      "\u001b[32m[I 2021-08-28 17:27:52,259]\u001b[0m Trial 27 finished with value: 36.76976409664076 and parameters: {'n_estimators': 700, 'max_depth': 14, 'min_samples_split': 2, 'min_samples_leaf': 1, 'max_features': 'sqrt', 'warm_start': False}. Best is trial 27 with value: 36.76976409664076.\u001b[0m\n",
      "\u001b[32m[I 2021-08-28 17:27:52,816]\u001b[0m Trial 28 finished with value: 37.65647047320075 and parameters: {'n_estimators': 500, 'max_depth': 14, 'min_samples_split': 2, 'min_samples_leaf': 2, 'max_features': 'sqrt', 'warm_start': False}. Best is trial 27 with value: 36.76976409664076.\u001b[0m\n"
     ]
    },
    {
     "name": "stderr",
     "output_type": "stream",
     "text": [
      "\u001b[32m[I 2021-08-28 17:27:54,340]\u001b[0m Trial 29 finished with value: 37.572102113021984 and parameters: {'n_estimators': 700, 'max_depth': 15, 'min_samples_split': 2, 'min_samples_leaf': 1, 'max_features': 'auto', 'warm_start': False}. Best is trial 27 with value: 36.76976409664076.\u001b[0m\n"
     ]
    },
    {
     "name": "stdout",
     "output_type": "stream",
     "text": [
      "Best Score: 36.76976409664076\n",
      "Best trial: {'n_estimators': 700, 'max_depth': 14, 'min_samples_split': 2, 'min_samples_leaf': 1, 'max_features': 'sqrt', 'warm_start': False}\n"
     ]
    }
   ],
   "source": [
    "import optuna\n",
    "from optuna.samplers import TPESampler\n",
    "\n",
    "sampler = TPESampler(seed=2021)\n",
    "study = optuna.create_study(\n",
    "    study_name=\"et_optimizer\",\n",
    "    direction=\"minimize\",\n",
    "    sampler=sampler,\n",
    ")\n",
    "study.optimize(objective_extratree, n_trials=30)\n",
    "print(\"Best Score:\", study.best_value)\n",
    "print(\"Best trial:\", study.best_trial.params)"
   ]
  },
  {
   "cell_type": "code",
   "execution_count": 92,
   "metadata": {},
   "outputs": [],
   "source": [
    "X = encode(ex[ex.columns.difference(['count', 'hour_bef_visibility'])], 'hour', 23)\n",
    "y = ex[['count']]\n",
    "\n",
    "cols = X.columns.tolist()\n",
    "\n",
    "it_test = test[test.columns.difference(['id', 'hour_bef_visibility'])].copy()\n",
    "it_test = encode(it_test, 'hour', 23)\n",
    "X_test = IterativeImputer(random_state=2021).fit_transform(it_test)\n",
    "\n",
    "reg = ExtraTreesRegressor(n_estimators=700, max_depth= 14, min_samples_split=2, min_samples_leaf=1, \n",
    "                          max_features='sqrt', warm_start= False, random_state=42)\n",
    "reg.fit(X, y)\n",
    "predicts = reg.predict(X_test)\n",
    "\n",
    "submission['count'] = predicts\n",
    "submission.to_csv('et_cyclic.csv', index=False)"
   ]
  },
  {
   "cell_type": "code",
   "execution_count": null,
   "metadata": {},
   "outputs": [],
   "source": []
  }
 ],
 "metadata": {
  "kernelspec": {
   "display_name": "Python 3",
   "language": "python",
   "name": "python3"
  },
  "language_info": {
   "codemirror_mode": {
    "name": "ipython",
    "version": 3
   },
   "file_extension": ".py",
   "mimetype": "text/x-python",
   "name": "python",
   "nbconvert_exporter": "python",
   "pygments_lexer": "ipython3",
   "version": "3.8.5"
  }
 },
 "nbformat": 4,
 "nbformat_minor": 4
}
