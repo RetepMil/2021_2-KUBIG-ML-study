{
 "cells": [
  {
   "cell_type": "code",
   "execution_count": 1,
   "metadata": {},
   "outputs": [],
   "source": [
    "import numpy as np\n",
    "import pandas as pd\n",
    "from numpy.random import randn\n",
    "\n",
    "import matplotlib.pyplot as plt\n",
    "import seaborn as sns\n",
    "import dataprep as dp\n",
    "from patsy import dmatrices\n",
    "from statsmodels.stats.outliers_influence import variance_inflation_factor\n",
    "\n",
    "from sklearn.model_selection import GridSearchCV, cross_val_score, KFold, train_test_split, cross_validate\n",
    "from sklearn.preprocessing import StandardScaler\n",
    "from sklearn.pipeline import Pipeline\n",
    "from sklearn.metrics import accuracy_score, f1_score, confusion_matrix, r2_score, mean_squared_error\n",
    "from sklearn.linear_model import LinearRegression, LogisticRegression, RANSACRegressor, Ridge, Lasso, ElasticNet\n",
    "from sklearn.ensemble import ExtraTreesRegressor\n",
    "from sklearn.ensemble import RandomForestRegressor\n",
    "\n",
    "import warnings\n",
    "warnings.filterwarnings('ignore')"
   ]
  },
  {
   "cell_type": "code",
   "execution_count": 2,
   "metadata": {},
   "outputs": [],
   "source": [
    "#Import data\n",
    "train = pd.read_csv('./data/train.csv')\n",
    "test = pd.read_csv('./data/test.csv')\n",
    "submission = pd.read_csv('./data/submission.csv')\n",
    "train.drop(['id'], axis=1, inplace=True)\n",
    "column_names = list(train.columns.values.tolist())"
   ]
  },
  {
   "cell_type": "code",
   "execution_count": 3,
   "metadata": {},
   "outputs": [],
   "source": [
    "train.drop(index=[934, 1035], inplace=True)"
   ]
  },
  {
   "cell_type": "code",
   "execution_count": 4,
   "metadata": {},
   "outputs": [
    {
     "data": {
      "text/plain": [
       "hour                      0\n",
       "hour_bef_temperature      0\n",
       "hour_bef_precipitation    0\n",
       "hour_bef_windspeed        0\n",
       "hour_bef_humidity         0\n",
       "hour_bef_visibility       0\n",
       "hour_bef_ozone            0\n",
       "hour_bef_pm10             0\n",
       "hour_bef_pm2.5            0\n",
       "count                     0\n",
       "dtype: int64"
      ]
     },
     "execution_count": 4,
     "metadata": {},
     "output_type": "execute_result"
    }
   ],
   "source": [
    "from sklearn.experimental import enable_iterative_imputer\n",
    "from sklearn.impute import IterativeImputer\n",
    "\n",
    "it_train = train.copy()\n",
    "\n",
    "it_train = IterativeImputer(random_state=2021).fit_transform(it_train)\n",
    "\n",
    "itImp = pd.DataFrame(it_train)\n",
    "itImp.columns = column_names\n",
    "\n",
    "itImp.isna().sum()"
   ]
  },
  {
   "cell_type": "code",
   "execution_count": 5,
   "metadata": {},
   "outputs": [
    {
     "name": "stderr",
     "output_type": "stream",
     "text": [
      "Note: NumExpr detected 12 cores but \"NUMEXPR_MAX_THREADS\" not set, so enforcing safe limit of 8.\n",
      "NumExpr defaulting to 8 threads.\n"
     ]
    },
    {
     "name": "stdout",
     "output_type": "stream",
     "text": [
      "<class 'pandas.core.frame.DataFrame'>\n",
      "Int64Index: 1433 entries, 0 to 1456\n",
      "Data columns (total 6 columns):\n",
      " #   Column                Non-Null Count  Dtype  \n",
      "---  ------                --------------  -----  \n",
      " 0   hour                  1433 non-null   float64\n",
      " 1   hour_bef_temperature  1433 non-null   float64\n",
      " 2   hour_bef_windspeed    1433 non-null   float64\n",
      " 3   hour_bef_humidity     1433 non-null   float64\n",
      " 4   hour_bef_visibility   1433 non-null   float64\n",
      " 5   hour_bef_ozone        1433 non-null   float64\n",
      "dtypes: float64(6)\n",
      "memory usage: 78.4 KB\n"
     ]
    }
   ],
   "source": [
    "col_name=['hour', 'hour_bef_temperature', 'hour_bef_windspeed', 'hour_bef_humidity', \n",
    "          'hour_bef_visibility', 'hour_bef_ozone']\n",
    "\n",
    "itImp_mid = itImp.copy()\n",
    "\n",
    "for ilt in col_name:\n",
    "    Q1=itImp_mid[ilt].quantile(0.25)\n",
    "    Q3=itImp_mid[ilt].quantile(0.75)\n",
    "    IQR=Q3-Q1\n",
    "    train_delout=itImp_mid[(itImp_mid[ilt]<(Q1 - 1.5*IQR)) | (itImp_mid[ilt]>(Q3+1.5*IQR))]\n",
    "    itImp_mid=itImp_mid.drop(train_delout.index, axis=0)\n",
    "itImp_mid[col_name].info()"
   ]
  },
  {
   "cell_type": "code",
   "execution_count": 6,
   "metadata": {},
   "outputs": [],
   "source": [
    "def busyHourGen(data, col):\n",
    "    lst = data[col]\n",
    "    lst_ = []\n",
    "    for i in lst:\n",
    "        if (6 < i < 10) or (16 < i < 20):\n",
    "            lst_.append(1)\n",
    "        else:\n",
    "            lst_.append(0)\n",
    "    data['busy_hour'] = lst_\n",
    "    return data"
   ]
  },
  {
   "cell_type": "code",
   "execution_count": 7,
   "metadata": {},
   "outputs": [],
   "source": [
    "an = busyHourGen(itImp_mid, 'hour') # an = busy_hour 추가된 데이터셋"
   ]
  },
  {
   "cell_type": "code",
   "execution_count": null,
   "metadata": {},
   "outputs": [],
   "source": [
    "import optuna\n",
    "from optuna.samplers import TPESampler\n",
    "\n",
    "def objective_extratree(trial):\n",
    "    params_et = {\n",
    "        \"n_estimators\": trial.suggest_int(\"n_estimators\", 100, 1000, step=100),\n",
    "        \"max_depth\": trial.suggest_int(\"max_depth\", 2, 20),\n",
    "        \"min_samples_split\": trial.suggest_int(\"min_samples_split\", 2, 4),\n",
    "        \"min_samples_leaf\": trial.suggest_int(\"min_samples_leaf\", 1, 3),\n",
    "        \"max_features\": trial.suggest_categorical(\"max_features\", [\"auto\", \"sqrt\", \"log2\", 4, 5, 6]),\n",
    "        \"warm_start\": trial.suggest_categorical(\"warm_start\", [True, False]),\n",
    "        \"random_state\": 2021\n",
    "    }\n",
    "    \n",
    "    X = an[an.columns.difference(['count', 'hour_bef_visibility'])]\n",
    "    y = an[['count']]\n",
    "    X_train_ori, X_val_ori, y_train_ori, y_val_ori = train_test_split(X, y, test_size=0.33, random_state=2021)\n",
    "    \n",
    "    model = ExtraTreesRegressor(**params_et)\n",
    "    model.fit(X_train_ori, y_train_ori)\n",
    "    \n",
    "    pred = model.predict(X_val_ori)\n",
    "    rmse = np.sqrt(mean_squared_error(y_val_ori, pred))\n",
    "    \n",
    "    return rmse\n",
    "\n",
    "sampler = TPESampler(seed=2021)\n",
    "study = optuna.create_study(\n",
    "    study_name=\"et_optimizer\",\n",
    "    direction=\"minimize\",\n",
    "    sampler=sampler,\n",
    ")\n",
    "study.optimize(objective_extratree, n_trials=30)\n",
    "print(\"Best Score:\", study.best_value)\n",
    "print(\"Best trial:\", study.best_trial.params)"
   ]
  },
  {
   "cell_type": "code",
   "execution_count": 8,
   "metadata": {},
   "outputs": [],
   "source": [
    "X = an[an.columns.difference(['count', 'hour_bef_visibility'])]\n",
    "y = an[['count']]\n",
    "colls = X.columns.tolist()\n",
    "\n",
    "it_test = test[test.columns.difference(['id', 'hour_bef_visibility'])].copy()\n",
    "it_test = busyHourGen(it_test, 'hour')\n",
    "it_test = it_test[colls]\n",
    "X_test = IterativeImputer(random_state=2021).fit_transform(it_test)\n",
    "\n",
    "optuna_ver = ExtraTreesRegressor(n_estimators=500, max_depth= 16, warm_start= True, random_state=2021)\n",
    "optuna_ver.fit(X, y)\n",
    "predicts = optuna_ver.predict(X_test)\n",
    "\n",
    "submission['count'] = predicts\n",
    "submission.to_csv('et_dummyfeat3.csv', index=False)"
   ]
  },
  {
   "cell_type": "code",
   "execution_count": 31,
   "metadata": {},
   "outputs": [],
   "source": [
    "par = {'n_estimators': 500, 'max_depth': 14, 'warm_start': True, 'random_state': 2021}\n",
    "\n",
    "X = an[an.columns.difference(['count', 'hour_bef_visibility'])]\n",
    "colls = X.columns.tolist()\n",
    "X = np.column_stack((X['hour']**3, X['hour_bef_temperature']**2, X))\n",
    "y = an[['count']]\n",
    "\n",
    "it_test = test[test.columns.difference(['id', 'hour_bef_visibility'])].copy()\n",
    "it_test = busyHourGen(it_test, 'hour')\n",
    "it_test = it_test[colls]\n",
    "X_test = np.column_stack((it_test['hour']**3, it_test['hour_bef_temperature']**2, it_test))\n",
    "X_test = IterativeImputer(random_state=2021).fit_transform(X_test)\n",
    "\n",
    "optuna_ver = ExtraTreesRegressor(**par)\n",
    "optuna_ver.fit(X, y)\n",
    "predicts = optuna_ver.predict(X_test)\n",
    "\n",
    "submission['count'] = predicts\n",
    "submission.to_csv('et_dummyfeatwind.csv', index=False)"
   ]
  },
  {
   "cell_type": "code",
   "execution_count": 32,
   "metadata": {},
   "outputs": [
    {
     "name": "stderr",
     "output_type": "stream",
     "text": [
      "\u001b[32m[I 2021-08-29 22:48:04,193]\u001b[0m A new study created in memory with name: et_optimizer\u001b[0m\n",
      "\u001b[32m[I 2021-08-29 22:48:05,239]\u001b[0m Trial 0 finished with value: 37.01949207166466 and parameters: {'max_depth': 14}. Best is trial 0 with value: 37.01949207166466.\u001b[0m\n",
      "\u001b[32m[I 2021-08-29 22:48:06,344]\u001b[0m Trial 1 finished with value: 36.9560743984034 and parameters: {'max_depth': 16}. Best is trial 1 with value: 36.9560743984034.\u001b[0m\n",
      "\u001b[32m[I 2021-08-29 22:48:07,050]\u001b[0m Trial 2 finished with value: 37.127289306955106 and parameters: {'max_depth': 9}. Best is trial 1 with value: 36.9560743984034.\u001b[0m\n",
      "\u001b[32m[I 2021-08-29 22:48:07,920]\u001b[0m Trial 3 finished with value: 36.96020202182806 and parameters: {'max_depth': 11}. Best is trial 1 with value: 36.9560743984034.\u001b[0m\n",
      "\u001b[32m[I 2021-08-29 22:48:09,013]\u001b[0m Trial 4 finished with value: 37.043538502379135 and parameters: {'max_depth': 18}. Best is trial 1 with value: 36.9560743984034.\u001b[0m\n",
      "\u001b[32m[I 2021-08-29 22:48:09,720]\u001b[0m Trial 5 finished with value: 37.127289306955106 and parameters: {'max_depth': 9}. Best is trial 1 with value: 36.9560743984034.\u001b[0m\n",
      "\u001b[32m[I 2021-08-29 22:48:10,448]\u001b[0m Trial 6 finished with value: 37.127289306955106 and parameters: {'max_depth': 9}. Best is trial 1 with value: 36.9560743984034.\u001b[0m\n",
      "\u001b[32m[I 2021-08-29 22:48:11,529]\u001b[0m Trial 7 finished with value: 36.9560743984034 and parameters: {'max_depth': 16}. Best is trial 1 with value: 36.9560743984034.\u001b[0m\n",
      "\u001b[32m[I 2021-08-29 22:48:12,591]\u001b[0m Trial 8 finished with value: 37.21947984397055 and parameters: {'max_depth': 15}. Best is trial 1 with value: 36.9560743984034.\u001b[0m\n",
      "\u001b[32m[I 2021-08-29 22:48:13,708]\u001b[0m Trial 9 finished with value: 36.9560743984034 and parameters: {'max_depth': 16}. Best is trial 1 with value: 36.9560743984034.\u001b[0m\n",
      "\u001b[32m[I 2021-08-29 22:48:14,633]\u001b[0m Trial 10 finished with value: 37.07414165885426 and parameters: {'max_depth': 12}. Best is trial 1 with value: 36.9560743984034.\u001b[0m\n",
      "\u001b[32m[I 2021-08-29 22:48:15,725]\u001b[0m Trial 11 finished with value: 37.20469675661845 and parameters: {'max_depth': 17}. Best is trial 1 with value: 36.9560743984034.\u001b[0m\n",
      "\u001b[32m[I 2021-08-29 22:48:16,748]\u001b[0m Trial 12 finished with value: 37.01949207166466 and parameters: {'max_depth': 14}. Best is trial 1 with value: 36.9560743984034.\u001b[0m\n",
      "\u001b[32m[I 2021-08-29 22:48:17,862]\u001b[0m Trial 13 finished with value: 37.043538502379135 and parameters: {'max_depth': 18}. Best is trial 1 with value: 36.9560743984034.\u001b[0m\n",
      "\u001b[32m[I 2021-08-29 22:48:18,977]\u001b[0m Trial 14 finished with value: 36.9560743984034 and parameters: {'max_depth': 16}. Best is trial 1 with value: 36.9560743984034.\u001b[0m\n",
      "\u001b[32m[I 2021-08-29 22:48:19,997]\u001b[0m Trial 15 finished with value: 37.245005487394515 and parameters: {'max_depth': 13}. Best is trial 1 with value: 36.9560743984034.\u001b[0m\n",
      "\u001b[32m[I 2021-08-29 22:48:21,109]\u001b[0m Trial 16 finished with value: 36.9560743984034 and parameters: {'max_depth': 16}. Best is trial 1 with value: 36.9560743984034.\u001b[0m\n",
      "\u001b[32m[I 2021-08-29 22:48:22,211]\u001b[0m Trial 17 finished with value: 37.21947984397055 and parameters: {'max_depth': 15}. Best is trial 1 with value: 36.9560743984034.\u001b[0m\n",
      "\u001b[32m[I 2021-08-29 22:48:23,090]\u001b[0m Trial 18 finished with value: 36.96020202182806 and parameters: {'max_depth': 11}. Best is trial 1 with value: 36.9560743984034.\u001b[0m\n",
      "\u001b[32m[I 2021-08-29 22:48:24,202]\u001b[0m Trial 19 finished with value: 37.20469675661845 and parameters: {'max_depth': 17}. Best is trial 1 with value: 36.9560743984034.\u001b[0m\n"
     ]
    },
    {
     "name": "stdout",
     "output_type": "stream",
     "text": [
      "Best Score: 36.9560743984034\n",
      "Best trial: {'max_depth': 16}\n"
     ]
    }
   ],
   "source": [
    "import optuna\n",
    "from optuna.samplers import TPESampler\n",
    "\n",
    "def objective_extratree(trial):\n",
    "    params_et = {\n",
    "        \"n_estimators\": 500, #trial.suggest_int(\"n_estimators\", 100, 1000, step=1),\n",
    "        \"max_depth\": trial.suggest_int(\"max_depth\", 8, 18),\n",
    "        #\"min_samples_split\": trial.suggest_int(\"min_samples_split\", 2, 4),\n",
    "        #\"min_samples_leaf\": trial.suggest_int(\"min_samples_leaf\", 1, 3),\n",
    "        \"warm_start\": True, #trial.suggest_categorical(\"warm_start\", [True, False]),\n",
    "        \"random_state\": 2021\n",
    "    }\n",
    "    \n",
    "    X = an[an.columns.difference(['count', 'hour_bef_visibility'])]\n",
    "    X = np.column_stack((X['hour']**3, X['hour_bef_temperature']**2, X))\n",
    "    y = an[['count']]\n",
    "    X_train_ori, X_val_ori, y_train_ori, y_val_ori = train_test_split(X, y, test_size=0.33, random_state=2021)\n",
    "    \n",
    "    model = ExtraTreesRegressor(**params_et)\n",
    "    model.fit(X_train_ori, y_train_ori)\n",
    "    \n",
    "    pred = model.predict(X_val_ori)\n",
    "    rmse = np.sqrt(mean_squared_error(y_val_ori, pred))\n",
    "    \n",
    "    return rmse\n",
    "\n",
    "sampler = TPESampler(seed=2021)\n",
    "study = optuna.create_study(\n",
    "    study_name=\"et_optimizer\",\n",
    "    direction=\"minimize\",\n",
    "    sampler=sampler,\n",
    ")\n",
    "study.optimize(objective_extratree, n_trials=20)\n",
    "print(\"Best Score:\", study.best_value)\n",
    "print(\"Best trial:\", study.best_trial.params)"
   ]
  },
  {
   "cell_type": "code",
   "execution_count": null,
   "metadata": {},
   "outputs": [],
   "source": []
  }
 ],
 "metadata": {
  "kernelspec": {
   "display_name": "Python 3",
   "language": "python",
   "name": "python3"
  },
  "language_info": {
   "codemirror_mode": {
    "name": "ipython",
    "version": 3
   },
   "file_extension": ".py",
   "mimetype": "text/x-python",
   "name": "python",
   "nbconvert_exporter": "python",
   "pygments_lexer": "ipython3",
   "version": "3.8.5"
  }
 },
 "nbformat": 4,
 "nbformat_minor": 4
}
