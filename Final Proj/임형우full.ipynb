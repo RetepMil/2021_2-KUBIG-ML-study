{
 "cells": [
  {
   "cell_type": "markdown",
   "metadata": {},
   "source": [
    "Comments: \\\n",
    "Visibility의 Density shape을 보면 끝에 집중되어있음"
   ]
  },
  {
   "cell_type": "code",
   "execution_count": 1,
   "metadata": {},
   "outputs": [],
   "source": [
    "import numpy as np\n",
    "import pandas as pd\n",
    "from numpy.random import randn\n",
    "\n",
    "import matplotlib.pyplot as plt\n",
    "import seaborn as sns\n",
    "import dataprep as dp\n",
    "from patsy import dmatrices\n",
    "from statsmodels.stats.outliers_influence import variance_inflation_factor\n",
    "\n",
    "from sklearn.model_selection import GridSearchCV, cross_val_score, KFold, train_test_split, cross_validate\n",
    "from sklearn.preprocessing import StandardScaler\n",
    "from sklearn.pipeline import Pipeline\n",
    "from sklearn.metrics import accuracy_score, f1_score, confusion_matrix, r2_score, mean_squared_error\n",
    "from sklearn.linear_model import LinearRegression, LogisticRegression, RANSACRegressor, Ridge, Lasso, ElasticNet\n",
    "\n",
    "import warnings\n",
    "warnings.filterwarnings('ignore')"
   ]
  },
  {
   "cell_type": "code",
   "execution_count": 2,
   "metadata": {},
   "outputs": [],
   "source": [
    "#Import data\n",
    "train = pd.read_csv('./data/train.csv')\n",
    "train.drop(['id'], axis=1, inplace=True)\n",
    "column_names = list(train.columns.values.tolist())"
   ]
  },
  {
   "cell_type": "markdown",
   "metadata": {},
   "source": [
    "# Filling Missing Values"
   ]
  },
  {
   "cell_type": "code",
   "execution_count": 3,
   "metadata": {},
   "outputs": [
    {
     "data": {
      "text/plain": [
       "hour                        0\n",
       "hour_bef_temperature        2\n",
       "hour_bef_precipitation      2\n",
       "hour_bef_windspeed          9\n",
       "hour_bef_humidity           2\n",
       "hour_bef_visibility         2\n",
       "hour_bef_ozone             76\n",
       "hour_bef_pm10              90\n",
       "hour_bef_pm2.5            117\n",
       "count                       0\n",
       "dtype: int64"
      ]
     },
     "execution_count": 3,
     "metadata": {},
     "output_type": "execute_result"
    }
   ],
   "source": [
    "train.isna().sum()"
   ]
  },
  {
   "cell_type": "code",
   "execution_count": 4,
   "metadata": {},
   "outputs": [
    {
     "name": "stderr",
     "output_type": "stream",
     "text": [
      "Note: NumExpr detected 12 cores but \"NUMEXPR_MAX_THREADS\" not set, so enforcing safe limit of 8.\n",
      "NumExpr defaulting to 8 threads.\n"
     ]
    },
    {
     "data": {
      "text/plain": [
       "Text(0.5, 1.0, 'Total Missing Value (%)')"
      ]
     },
     "execution_count": 4,
     "metadata": {},
     "output_type": "execute_result"
    },
    {
     "data": {
      "image/png": "[encoded data removed]",
      "text/plain": [
       "<Figure size 576x432 with 1 Axes>"
      ]
     },
     "metadata": {
      "needs_background": "light"
     },
     "output_type": "display_data"
    }
   ],
   "source": [
    "#2조분들 하신거 가져옴 ㅎㅎ!\n",
    "\n",
    "total = train.isna().sum().sort_values(ascending=False)\n",
    "percent = (train.isna().sum()/train.isna().sum().sum()).sort_values(ascending=False)\n",
    "missing_data = pd.concat([total, percent], axis=1, keys=['Total', 'Percent'])\n",
    "percent_data = percent.head(20)\n",
    "percent_data.plot(kind=\"bar\", figsize = (8,6), fontsize = 10)\n",
    "plt.xlabel(\"\", fontsize = 20)\n",
    "plt.ylabel(\"\", fontsize = 20)\n",
    "plt.title(\"Total Missing Value (%)\", fontsize = 20)"
   ]
  },
  {
   "cell_type": "markdown",
   "metadata": {},
   "source": [
    "hour_bef_pm2.5, pm10 같은 경우 결측치가 각각 대략 40%, 35% 달하기 때문에 굳이? 안 넣어도 될 것 같음\n",
    "저번 학기 조별 과제 하신거 보니 결측치 40%인 특성들 제거해주심"
   ]
  },
  {
   "cell_type": "code",
   "execution_count": 5,
   "metadata": {},
   "outputs": [
    {
     "data": {
      "text/html": [
       "<div>\n",
       "<style scoped>\n",
       "    .dataframe tbody tr th:only-of-type {\n",
       "        vertical-align: middle;\n",
       "    }\n",
       "\n",
       "    .dataframe tbody tr th {\n",
       "        vertical-align: top;\n",
       "    }\n",
       "\n",
       "    .dataframe thead th {\n",
       "        text-align: right;\n",
       "    }\n",
       "</style>\n",
       "<table border=\"1\" class=\"dataframe\">\n",
       "  <thead>\n",
       "    <tr style=\"text-align: right;\">\n",
       "      <th></th>\n",
       "      <th>hour</th>\n",
       "      <th>hour_bef_temperature</th>\n",
       "      <th>hour_bef_precipitation</th>\n",
       "      <th>hour_bef_windspeed</th>\n",
       "      <th>hour_bef_humidity</th>\n",
       "      <th>hour_bef_visibility</th>\n",
       "      <th>hour_bef_ozone</th>\n",
       "      <th>hour_bef_pm10</th>\n",
       "      <th>hour_bef_pm2.5</th>\n",
       "      <th>count</th>\n",
       "    </tr>\n",
       "  </thead>\n",
       "  <tbody>\n",
       "    <tr>\n",
       "      <th>934</th>\n",
       "      <td>0</td>\n",
       "      <td>NaN</td>\n",
       "      <td>NaN</td>\n",
       "      <td>NaN</td>\n",
       "      <td>NaN</td>\n",
       "      <td>NaN</td>\n",
       "      <td>NaN</td>\n",
       "      <td>NaN</td>\n",
       "      <td>NaN</td>\n",
       "      <td>39.0</td>\n",
       "    </tr>\n",
       "    <tr>\n",
       "      <th>1035</th>\n",
       "      <td>18</td>\n",
       "      <td>NaN</td>\n",
       "      <td>NaN</td>\n",
       "      <td>NaN</td>\n",
       "      <td>NaN</td>\n",
       "      <td>NaN</td>\n",
       "      <td>NaN</td>\n",
       "      <td>NaN</td>\n",
       "      <td>NaN</td>\n",
       "      <td>1.0</td>\n",
       "    </tr>\n",
       "  </tbody>\n",
       "</table>\n",
       "</div>"
      ],
      "text/plain": [
       "      hour  hour_bef_temperature  hour_bef_precipitation  hour_bef_windspeed  \\\n",
       "934      0                   NaN                     NaN                 NaN   \n",
       "1035    18                   NaN                     NaN                 NaN   \n",
       "\n",
       "      hour_bef_humidity  hour_bef_visibility  hour_bef_ozone  hour_bef_pm10  \\\n",
       "934                 NaN                  NaN             NaN            NaN   \n",
       "1035                NaN                  NaN             NaN            NaN   \n",
       "\n",
       "      hour_bef_pm2.5  count  \n",
       "934              NaN   39.0  \n",
       "1035             NaN    1.0  "
      ]
     },
     "execution_count": 5,
     "metadata": {},
     "output_type": "execute_result"
    }
   ],
   "source": [
    "train[train['hour_bef_temperature'].isna()]"
   ]
  },
  {
   "cell_type": "code",
   "execution_count": 6,
   "metadata": {},
   "outputs": [],
   "source": [
    "train.drop(index=[934, 1035], inplace=True)"
   ]
  },
  {
   "cell_type": "code",
   "execution_count": 7,
   "metadata": {},
   "outputs": [
    {
     "data": {
      "text/plain": [
       "hour                        0\n",
       "hour_bef_temperature        0\n",
       "hour_bef_precipitation      0\n",
       "hour_bef_windspeed          7\n",
       "hour_bef_humidity           0\n",
       "hour_bef_visibility         0\n",
       "hour_bef_ozone             74\n",
       "hour_bef_pm10              88\n",
       "hour_bef_pm2.5            115\n",
       "count                       0\n",
       "dtype: int64"
      ]
     },
     "execution_count": 7,
     "metadata": {},
     "output_type": "execute_result"
    }
   ],
   "source": [
    "train.isna().sum()"
   ]
  },
  {
   "cell_type": "markdown",
   "metadata": {},
   "source": [
    "Ozone은 결측치가 74개라서 Impute해줘야 할 것 같지만 Windspeed은 7개 밖에 되지 않기 때문에 해당 Record를 지워도 되긴함"
   ]
  },
  {
   "cell_type": "code",
   "execution_count": 8,
   "metadata": {},
   "outputs": [],
   "source": [
    "imputation_compare = pd.DataFrame()\n",
    "miss_idx = train.index[train['hour_bef_windspeed'].isna()]"
   ]
  },
  {
   "cell_type": "markdown",
   "metadata": {},
   "source": [
    "### Original Method (시간별 평균)"
   ]
  },
  {
   "cell_type": "code",
   "execution_count": 80,
   "metadata": {},
   "outputs": [
    {
     "data": {
      "text/plain": [
       "hour                        0\n",
       "hour_bef_temperature        0\n",
       "hour_bef_precipitation      0\n",
       "hour_bef_windspeed          0\n",
       "hour_bef_humidity           0\n",
       "hour_bef_visibility         0\n",
       "hour_bef_ozone              0\n",
       "hour_bef_pm10              88\n",
       "hour_bef_pm2.5            115\n",
       "count                       0\n",
       "dtype: int64"
      ]
     },
     "execution_count": 80,
     "metadata": {},
     "output_type": "execute_result"
    }
   ],
   "source": [
    "ori_train = train.copy()\n",
    "\n",
    "fill_dict = {}\n",
    "idxs = ori_train[ori_train['hour_bef_windspeed'].isna()].index\n",
    "att_by_hr = ori_train.groupby('hour').mean()['hour_bef_windspeed']\n",
    "for idx in idxs:\n",
    "    hr_mean = att_by_hr[ori_train['hour'][idx]]\n",
    "    fill_dict[idx] = hr_mean\n",
    "ori_train['hour_bef_windspeed'].fillna(fill_dict, inplace=True)\n",
    "\n",
    "fill_dict = {}\n",
    "idxs = ori_train[ori_train['hour_bef_ozone'].isna()].index\n",
    "att_by_hr = ori_train.groupby('hour').mean()['hour_bef_ozone']\n",
    "for idx in idxs:\n",
    "    hr_mean = att_by_hr[ori_train['hour'][idx]]\n",
    "    fill_dict[idx] = hr_mean\n",
    "    if ori_train['hour'][idx] == 1:\n",
    "        fill_dict[idx] = (0.033763 + 0.030492) / 2\n",
    "ori_train['hour_bef_ozone'].fillna(fill_dict, inplace=True)\n",
    "\n",
    "imputation_compare['Original'] = ori_train.loc[miss_idx, 'hour_bef_windspeed']\n",
    "ori_train.isna().sum()"
   ]
  },
  {
   "cell_type": "markdown",
   "metadata": {},
   "source": [
    "### KNN Imputer"
   ]
  },
  {
   "cell_type": "code",
   "execution_count": 75,
   "metadata": {},
   "outputs": [
    {
     "data": {
      "text/plain": [
       "hour                      0\n",
       "hour_bef_temperature      0\n",
       "hour_bef_precipitation    0\n",
       "hour_bef_windspeed        0\n",
       "hour_bef_humidity         0\n",
       "hour_bef_visibility       0\n",
       "hour_bef_ozone            0\n",
       "hour_bef_pm10             0\n",
       "hour_bef_pm2.5            0\n",
       "count                     0\n",
       "dtype: int64"
      ]
     },
     "execution_count": 75,
     "metadata": {},
     "output_type": "execute_result"
    }
   ],
   "source": [
    "from sklearn.impute import KNNImputer\n",
    "\n",
    "knn_train = train.copy()\n",
    "\n",
    "imputer = KNNImputer(n_neighbors=20)\n",
    "knn_train = imputer.fit_transform(knn_train)\n",
    "\n",
    "knnImp = pd.DataFrame(knn_train)\n",
    "knnImp.columns = column_names\n",
    "\n",
    "imputation_compare['KNN Imputer'] = knnImp.loc[miss_idx, 'hour_bef_windspeed']\n",
    "knnImp.isna().sum()"
   ]
  },
  {
   "cell_type": "code",
   "execution_count": 76,
   "metadata": {},
   "outputs": [
    {
     "data": {
      "text/plain": [
       "18      2.610\n",
       "244     1.420\n",
       "260     1.450\n",
       "376     2.205\n",
       "780     3.835\n",
       "1138    3.700\n",
       "1229    1.800\n",
       "Name: hour_bef_windspeed, dtype: float64"
      ]
     },
     "execution_count": 76,
     "metadata": {},
     "output_type": "execute_result"
    }
   ],
   "source": [
    "knnImp.loc[miss_idx, 'hour_bef_windspeed']"
   ]
  },
  {
   "cell_type": "markdown",
   "metadata": {},
   "source": [
    "### MICE Imputer\n",
    "\n",
    "<br>\n",
    "https://towardsdatascience.com/6-different-ways-to-compensate-for-missing-values-data-imputation-with-examples-6022d9ca0779\n",
    "<br>\n",
    "Mice Explained: https://stats.stackexchange.com/questions/421545/multiple-imputation-by-chained-equations-mice-explained"
   ]
  },
  {
   "cell_type": "code",
   "execution_count": 12,
   "metadata": {},
   "outputs": [
    {
     "name": "stdout",
     "output_type": "stream",
     "text": [
      "Requirement already satisfied: impyute in c:\\users\\retepmil\\anaconda3\\lib\\site-packages (0.0.8)\n",
      "Requirement already satisfied: scikit-learn in c:\\users\\retepmil\\anaconda3\\lib\\site-packages (from impyute) (0.24.2)\n",
      "Requirement already satisfied: numpy in c:\\users\\retepmil\\anaconda3\\lib\\site-packages (from impyute) (1.19.2)\n",
      "Requirement already satisfied: scipy in c:\\users\\retepmil\\anaconda3\\lib\\site-packages (from impyute) (1.5.2)\n",
      "Requirement already satisfied: joblib>=0.11 in c:\\users\\retepmil\\anaconda3\\lib\\site-packages (from scikit-learn->impyute) (0.17.0)\n",
      "Requirement already satisfied: threadpoolctl>=2.0.0 in c:\\users\\retepmil\\anaconda3\\lib\\site-packages (from scikit-learn->impyute) (2.1.0)\n",
      "Note: you may need to restart the kernel to use updated packages.\n"
     ]
    }
   ],
   "source": [
    "pip install impyute"
   ]
  },
  {
   "cell_type": "code",
   "execution_count": 77,
   "metadata": {},
   "outputs": [
    {
     "data": {
      "text/plain": [
       "hour                      0\n",
       "hour_bef_temperature      0\n",
       "hour_bef_precipitation    0\n",
       "hour_bef_windspeed        0\n",
       "hour_bef_humidity         0\n",
       "hour_bef_visibility       0\n",
       "hour_bef_ozone            0\n",
       "hour_bef_pm10             0\n",
       "hour_bef_pm2.5            0\n",
       "count                     0\n",
       "dtype: int64"
      ]
     },
     "execution_count": 77,
     "metadata": {},
     "output_type": "execute_result"
    }
   ],
   "source": [
    "from impyute import mice\n",
    "\n",
    "mice_train = train.to_numpy()\n",
    "mice_train = mice(mice_train)\n",
    "\n",
    "miceImp = pd.DataFrame(mice_train)\n",
    "miceImp.columns = column_names\n",
    "\n",
    "imputation_compare['MICE Imputer'] = miceImp.loc[miss_idx, 'hour_bef_windspeed']\n",
    "miceImp.isna().sum()"
   ]
  },
  {
   "cell_type": "markdown",
   "metadata": {},
   "source": [
    "### Iterative Imputer\n",
    "<br> Bayesian Ridge 사용"
   ]
  },
  {
   "cell_type": "code",
   "execution_count": 9,
   "metadata": {},
   "outputs": [
    {
     "data": {
      "text/plain": [
       "hour                      0\n",
       "hour_bef_temperature      0\n",
       "hour_bef_precipitation    0\n",
       "hour_bef_windspeed        0\n",
       "hour_bef_humidity         0\n",
       "hour_bef_visibility       0\n",
       "hour_bef_ozone            0\n",
       "hour_bef_pm10             0\n",
       "hour_bef_pm2.5            0\n",
       "count                     0\n",
       "dtype: int64"
      ]
     },
     "execution_count": 9,
     "metadata": {},
     "output_type": "execute_result"
    }
   ],
   "source": [
    "from sklearn.experimental import enable_iterative_imputer\n",
    "from sklearn.impute import IterativeImputer\n",
    "\n",
    "it_train = train.copy()\n",
    "\n",
    "it_train = IterativeImputer(random_state=2021).fit_transform(it_train)\n",
    "\n",
    "itImp = pd.DataFrame(it_train)\n",
    "itImp.columns = column_names\n",
    "\n",
    "imputation_compare['Iterative Imputer'] = itImp.loc[miss_idx, 'hour_bef_windspeed']\n",
    "itImp.isna().sum()"
   ]
  },
  {
   "cell_type": "code",
   "execution_count": 10,
   "metadata": {},
   "outputs": [
    {
     "data": {
      "text/html": [
       "<div>\n",
       "<style scoped>\n",
       "    .dataframe tbody tr th:only-of-type {\n",
       "        vertical-align: middle;\n",
       "    }\n",
       "\n",
       "    .dataframe tbody tr th {\n",
       "        vertical-align: top;\n",
       "    }\n",
       "\n",
       "    .dataframe thead th {\n",
       "        text-align: right;\n",
       "    }\n",
       "</style>\n",
       "<table border=\"1\" class=\"dataframe\">\n",
       "  <thead>\n",
       "    <tr style=\"text-align: right;\">\n",
       "      <th></th>\n",
       "      <th>Iterative Imputer</th>\n",
       "    </tr>\n",
       "  </thead>\n",
       "  <tbody>\n",
       "    <tr>\n",
       "      <th>18</th>\n",
       "      <td>2.875890</td>\n",
       "    </tr>\n",
       "    <tr>\n",
       "      <th>244</th>\n",
       "      <td>1.682353</td>\n",
       "    </tr>\n",
       "    <tr>\n",
       "      <th>260</th>\n",
       "      <td>2.242214</td>\n",
       "    </tr>\n",
       "    <tr>\n",
       "      <th>376</th>\n",
       "      <td>2.141721</td>\n",
       "    </tr>\n",
       "    <tr>\n",
       "      <th>780</th>\n",
       "      <td>3.846585</td>\n",
       "    </tr>\n",
       "    <tr>\n",
       "      <th>1138</th>\n",
       "      <td>3.700000</td>\n",
       "    </tr>\n",
       "    <tr>\n",
       "      <th>1229</th>\n",
       "      <td>1.800000</td>\n",
       "    </tr>\n",
       "  </tbody>\n",
       "</table>\n",
       "</div>"
      ],
      "text/plain": [
       "      Iterative Imputer\n",
       "18             2.875890\n",
       "244            1.682353\n",
       "260            2.242214\n",
       "376            2.141721\n",
       "780            3.846585\n",
       "1138           3.700000\n",
       "1229           1.800000"
      ]
     },
     "execution_count": 10,
     "metadata": {},
     "output_type": "execute_result"
    }
   ],
   "source": [
    "imputation_compare #'hour_bef_windspeed' 값임\n",
    "#상당히 유사하다.\n",
    "#그냥 다 가져가서 /4 하는 것은 어떨까"
   ]
  },
  {
   "cell_type": "markdown",
   "metadata": {},
   "source": [
    "# Outliers"
   ]
  },
  {
   "cell_type": "markdown",
   "metadata": {},
   "source": [
    "### Isolation Forest"
   ]
  },
  {
   "cell_type": "code",
   "execution_count": 82,
   "metadata": {},
   "outputs": [
    {
     "name": "stdout",
     "output_type": "stream",
     "text": [
      "<class 'pandas.core.frame.DataFrame'>\n",
      "Int64Index: 1225 entries, 0 to 1456\n",
      "Data columns (total 6 columns):\n",
      " #   Column                Non-Null Count  Dtype  \n",
      "---  ------                --------------  -----  \n",
      " 0   hour                  1225 non-null   float64\n",
      " 1   hour_bef_temperature  1225 non-null   float64\n",
      " 2   hour_bef_windspeed    1225 non-null   float64\n",
      " 3   hour_bef_humidity     1225 non-null   float64\n",
      " 4   hour_bef_visibility   1225 non-null   float64\n",
      " 5   hour_bef_ozone        1225 non-null   float64\n",
      "dtypes: float64(6)\n",
      "memory usage: 67.0 KB\n"
     ]
    }
   ],
   "source": [
    "# 참고: https://donghwa-kim.github.io/iforest.html\n",
    "# Regression Tree 기반의 Split으로 모든 데이터 관측치를 고립시키는 방법(?)\n",
    "# 비정상 데이터가 고립되려면, root node와 가까운 depth를 가짐\n",
    "# 정상 데이터가 고립되려면, tree의 말단노드에 가까운 depth를 가짐\n",
    "# 특정 한 개체가 isolation 되는 leaf 노드(terminal node)까지의 거리를 outlier score로 정의하며,\n",
    "# 그 평균거리(depth)가 짧을 수록 outlier score는 높아짐\n",
    "\n",
    "from sklearn.ensemble import IsolationForest\n",
    "iso = IsolationForest(n_jobs=-1)\n",
    "\n",
    "#Visilbility의 density shape 때문에 제외시킴\n",
    "itImp_IF_mid = itImp.drop(['hour_bef_precipitation', 'hour_bef_visibility', 'count'], axis=1)\n",
    "\n",
    "yhat = iso.fit_predict(itImp_IF_mid)\n",
    "mask = yhat != -1\n",
    "itImp_IF = itImp[mask]\n",
    "\n",
    "itImp_IF[['hour', 'hour_bef_temperature', 'hour_bef_windspeed', 'hour_bef_humidity', 'hour_bef_visibility', 'hour_bef_ozone']].info()\n",
    "#알고리즘이 Stochastic한 것 같다: 수가 계속 변함"
   ]
  },
  {
   "cell_type": "markdown",
   "metadata": {},
   "source": [
    "### Minimum Covariance Determinant"
   ]
  },
  {
   "cell_type": "code",
   "execution_count": 83,
   "metadata": {},
   "outputs": [
    {
     "name": "stdout",
     "output_type": "stream",
     "text": [
      "<class 'pandas.core.frame.DataFrame'>\n",
      "Int64Index: 1311 entries, 0 to 1456\n",
      "Data columns (total 6 columns):\n",
      " #   Column                Non-Null Count  Dtype  \n",
      "---  ------                --------------  -----  \n",
      " 0   hour                  1311 non-null   float64\n",
      " 1   hour_bef_temperature  1311 non-null   float64\n",
      " 2   hour_bef_windspeed    1311 non-null   float64\n",
      " 3   hour_bef_humidity     1311 non-null   float64\n",
      " 4   hour_bef_visibility   1311 non-null   float64\n",
      " 5   hour_bef_ozone        1311 non-null   float64\n",
      "dtypes: float64(6)\n",
      "memory usage: 71.7 KB\n"
     ]
    }
   ],
   "source": [
    "# 참고: https://scikit-learn.org/stable/modules/generated/sklearn.covariance.EllipticEnvelope.html\n",
    "# 만약 사용하고자 하는 변수가 가우시안 분포를 가지고 있다면, 이 특성을 이용해 Elliptic하게 묶에서 외곽의 데이터는\n",
    "# 버리는 방법으로 Outlier 제거가 가능하다(는 알고리즘)\n",
    "\n",
    "from sklearn.covariance import EllipticEnvelope\n",
    "ee = EllipticEnvelope(contamination=0.1)\n",
    "\n",
    "#가우시안 분포 아닌 변수들 제거\n",
    "itImp_MCD_mid = itImp.drop(['hour', 'hour_bef_precipitation', 'hour_bef_visibility', 'count'], axis=1)\n",
    "\n",
    "yhat = ee.fit_predict(itImp_MCD_mid)\n",
    "mask = yhat != -1\n",
    "itImp_MCD = itImp[mask]\n",
    "\n",
    "itImp_MCD[['hour', 'hour_bef_temperature', 'hour_bef_windspeed', 'hour_bef_humidity', 'hour_bef_visibility', 'hour_bef_ozone']].info()\n",
    "# 얘는 일정함"
   ]
  },
  {
   "cell_type": "markdown",
   "metadata": {},
   "source": [
    "### Original Method (IQR)"
   ]
  },
  {
   "cell_type": "code",
   "execution_count": 11,
   "metadata": {},
   "outputs": [
    {
     "name": "stdout",
     "output_type": "stream",
     "text": [
      "<class 'pandas.core.frame.DataFrame'>\n",
      "Int64Index: 1433 entries, 0 to 1456\n",
      "Data columns (total 6 columns):\n",
      " #   Column                Non-Null Count  Dtype  \n",
      "---  ------                --------------  -----  \n",
      " 0   hour                  1433 non-null   float64\n",
      " 1   hour_bef_temperature  1433 non-null   float64\n",
      " 2   hour_bef_windspeed    1433 non-null   float64\n",
      " 3   hour_bef_humidity     1433 non-null   float64\n",
      " 4   hour_bef_visibility   1433 non-null   float64\n",
      " 5   hour_bef_ozone        1433 non-null   float64\n",
      "dtypes: float64(6)\n",
      "memory usage: 78.4 KB\n"
     ]
    }
   ],
   "source": [
    "col_name=['hour', 'hour_bef_temperature', 'hour_bef_windspeed', 'hour_bef_humidity', 'hour_bef_visibility', 'hour_bef_ozone']\n",
    "\n",
    "itImp_mid = itImp.copy()\n",
    "\n",
    "for ilt in col_name:\n",
    "    Q1=itImp_mid[ilt].quantile(0.25)\n",
    "    Q3=itImp_mid[ilt].quantile(0.75)\n",
    "    IQR=Q3-Q1\n",
    "    train_delout=itImp_mid[(itImp_mid[ilt]<(Q1 - 1.5*IQR)) | (itImp_mid[ilt]>(Q3+1.5*IQR))]\n",
    "    itImp_mid=itImp_mid.drop(train_delout.index, axis=0)\n",
    "itImp_mid[col_name].info()"
   ]
  },
  {
   "cell_type": "markdown",
   "metadata": {},
   "source": [
    "# Modeling"
   ]
  },
  {
   "cell_type": "code",
   "execution_count": 12,
   "metadata": {},
   "outputs": [],
   "source": [
    "col = ['hour', 'hour_bef_temperature', 'hour_bef_windspeed', 'hour_bef_humidity', 'hour_bef_ozone']\n",
    "\n",
    "'''X = itImp_IF[col]\n",
    "y = itImp_IF[['count']]\n",
    "X_train_IF, X_val_IF, y_train_IF, y_val_IF = train_test_split(X, y, test_size=0.33, random_state=2021)\n",
    "\n",
    "X = itImp_MCD[col]\n",
    "y = itImp_MCD[['count']]\n",
    "X_train_MCD, X_val_MCD, y_train_MCD, y_val_MCD = train_test_split(X, y, test_size=0.33, random_state=2021)'''\n",
    "\n",
    "X = itImp_mid[col]\n",
    "y = itImp_mid[['count']]\n",
    "X_train_ori, X_val_ori, y_train_ori, y_val_ori = train_test_split(X, y, test_size=0.33, random_state=2021)"
   ]
  },
  {
   "cell_type": "markdown",
   "metadata": {},
   "source": [
    "### Isolation Forest"
   ]
  },
  {
   "cell_type": "code",
   "execution_count": 86,
   "metadata": {},
   "outputs": [
    {
     "name": "stdout",
     "output_type": "stream",
     "text": [
      "40.336527966694064\n"
     ]
    }
   ],
   "source": [
    "#Random Forest 사용 https://hleecaster.com/ml-random-forest-concept/\n",
    "from sklearn.ensemble import RandomForestRegressor\n",
    "from sklearn.compose import ColumnTransformer\n",
    "\n",
    "IF_RF = RandomForestRegressor(max_depth=10, random_state=2021)\n",
    "IF_RF.fit(X_train_IF, y_train_IF)\n",
    "y_preds = IF_RF.predict(X_val_IF)\n",
    "\n",
    "# why use rmse? : https://data101.oopy.io/mae-vs-rmse\n",
    "rmse_IF = np.sqrt(mean_squared_error(y_val_IF, y_preds))\n",
    "print(rmse_IF)"
   ]
  },
  {
   "cell_type": "markdown",
   "metadata": {},
   "source": [
    "### MCD"
   ]
  },
  {
   "cell_type": "code",
   "execution_count": 87,
   "metadata": {},
   "outputs": [
    {
     "name": "stdout",
     "output_type": "stream",
     "text": [
      "40.65703831202569\n"
     ]
    }
   ],
   "source": [
    "MCD_RF = RandomForestRegressor(max_depth=10, random_state=2021)\n",
    "MCD_RF.fit(X_train_MCD, y_train_MCD)\n",
    "y_preds = MCD_RF.predict(X_val_MCD)\n",
    "\n",
    "rmse_MCD = np.sqrt(mean_squared_error(y_val_MCD, y_preds))\n",
    "print(rmse_MCD)"
   ]
  },
  {
   "cell_type": "markdown",
   "metadata": {},
   "source": [
    "### IQR"
   ]
  },
  {
   "cell_type": "code",
   "execution_count": 15,
   "metadata": {},
   "outputs": [
    {
     "name": "stdout",
     "output_type": "stream",
     "text": [
      "37.64945833929329\n"
     ]
    }
   ],
   "source": [
    "from sklearn.ensemble import RandomForestRegressor\n",
    "\n",
    "ori_RF = RandomForestRegressor(max_depth=10, random_state=2021)\n",
    "ori_RF.fit(X_train_ori, y_train_ori)\n",
    "y_preds = ori_RF.predict(X_val_ori)\n",
    "\n",
    "rmse_ori = np.sqrt(mean_squared_error(y_val_ori, y_preds))\n",
    "print(rmse_ori)"
   ]
  },
  {
   "cell_type": "code",
   "execution_count": 17,
   "metadata": {},
   "outputs": [
    {
     "name": "stdout",
     "output_type": "stream",
     "text": [
      "37.47143608933198\n"
     ]
    }
   ],
   "source": [
    "from sklearn.ensemble import ExtraTreesRegressor\n",
    "\n",
    "best_reg = ExtraTreesRegressor(n_estimators=100, max_depth=10, random_state=2021)\n",
    "best_reg.fit(X_train_ori, y_train_ori)\n",
    "y_preds = best_reg.predict(X_val_ori)\n",
    "\n",
    "rmse = np.sqrt(mean_squared_error(y_val_ori, y_preds))\n",
    "print(rmse)"
   ]
  },
  {
   "cell_type": "markdown",
   "metadata": {},
   "source": [
    "결론: IQR 방식이 제일 정확함 X\n",
    "max_depth 늘리니까 MCD IF 방식의 rmse가 엄청 줄음"
   ]
  },
  {
   "cell_type": "markdown",
   "metadata": {},
   "source": [
    "### Scaling까지 적용하면 어떨까"
   ]
  },
  {
   "cell_type": "code",
   "execution_count": 93,
   "metadata": {},
   "outputs": [],
   "source": [
    "scaler = StandardScaler()\n",
    "itImp_scaling = itImp_mid[['hour', 'hour_bef_temperature', 'hour_bef_windspeed', 'hour_bef_humidity', 'hour_bef_ozone', 'count']].copy()\n",
    "\n",
    "after_scaling = pd.DataFrame(scaler.fit_transform(itImp_scaling[['hour_bef_temperature', 'hour_bef_windspeed', \n",
    "                                                'hour_bef_humidity', 'hour_bef_ozone']]))\n",
    "\n",
    "for i, att in enumerate(['hour_bef_temperature', 'hour_bef_windspeed','hour_bef_humidity', 'hour_bef_ozone']):\n",
    "    itImp_scaling[att] = after_scaling.loc[:, i]\n",
    "itImp_scaling = itImp_scaling.loc[:1432, :]\n",
    "\n",
    "X = itImp_scaling[col]\n",
    "y = itImp_scaling[['count']]\n",
    "X_train_scaling, X_val_scaling, y_train_scaling, y_val_scaling = train_test_split(X, y, test_size=0.33, random_state=2021)"
   ]
  },
  {
   "cell_type": "code",
   "execution_count": 94,
   "metadata": {},
   "outputs": [
    {
     "name": "stdout",
     "output_type": "stream",
     "text": [
      "47.97507111491688\n"
     ]
    }
   ],
   "source": [
    "scaling_rf = RandomForestRegressor(max_depth=3, random_state=2021)\n",
    "scaling_rf.fit(X_train_scaling, y_train_scaling)\n",
    "y_preds = scaling_rf.predict(X_val_scaling)\n",
    "\n",
    "rmse_scaling = np.sqrt(mean_squared_error(y_val_scaling, y_preds))\n",
    "print(rmse_scaling)"
   ]
  },
  {
   "cell_type": "markdown",
   "metadata": {},
   "source": [
    "### 그냥 모든 attribute 사용한다면?"
   ]
  },
  {
   "cell_type": "code",
   "execution_count": 95,
   "metadata": {},
   "outputs": [
    {
     "name": "stdout",
     "output_type": "stream",
     "text": [
      "<class 'pandas.core.frame.DataFrame'>\n",
      "Int64Index: 1433 entries, 0 to 1456\n",
      "Data columns (total 10 columns):\n",
      " #   Column                  Non-Null Count  Dtype  \n",
      "---  ------                  --------------  -----  \n",
      " 0   hour                    1433 non-null   float64\n",
      " 1   hour_bef_temperature    1433 non-null   float64\n",
      " 2   hour_bef_precipitation  1433 non-null   float64\n",
      " 3   hour_bef_windspeed      1433 non-null   float64\n",
      " 4   hour_bef_humidity       1433 non-null   float64\n",
      " 5   hour_bef_visibility     1433 non-null   float64\n",
      " 6   hour_bef_ozone          1433 non-null   float64\n",
      " 7   hour_bef_pm10           1433 non-null   float64\n",
      " 8   hour_bef_pm2.5          1433 non-null   float64\n",
      " 9   count                   1433 non-null   float64\n",
      "dtypes: float64(10)\n",
      "memory usage: 163.1 KB\n"
     ]
    }
   ],
   "source": [
    "itImp_mid.info()"
   ]
  },
  {
   "cell_type": "code",
   "execution_count": 96,
   "metadata": {},
   "outputs": [
    {
     "name": "stdout",
     "output_type": "stream",
     "text": [
      "39.80085369794372\n"
     ]
    }
   ],
   "source": [
    "X = itImp_IF[itImp_mid.columns.difference(['count'])]\n",
    "y = itImp_IF[['count']]\n",
    "X_train_all, X_val_all, y_train_all, y_val_all = train_test_split(X, y, test_size=0.33, random_state=2021)\n",
    "\n",
    "allatri_rf = RandomForestRegressor(max_depth=10, random_state=2021)\n",
    "allatri_rf.fit(X_train_all, y_train_all)\n",
    "y_preds = allatri_rf.predict(X_val_all)\n",
    "\n",
    "rmse_allatri = np.sqrt(mean_squared_error(y_val_all, y_preds))\n",
    "print(rmse_allatri)"
   ]
  },
  {
   "cell_type": "markdown",
   "metadata": {},
   "source": [
    "### Different Regs (Voting, ET)"
   ]
  },
  {
   "cell_type": "code",
   "execution_count": 27,
   "metadata": {},
   "outputs": [
    {
     "name": "stdout",
     "output_type": "stream",
     "text": [
      "Requirement already satisfied: xgboost in c:\\users\\retepmil\\anaconda3\\lib\\site-packages (1.4.2)\n",
      "Requirement already satisfied: scipy in c:\\users\\retepmil\\anaconda3\\lib\\site-packages (from xgboost) (1.5.2)\n",
      "Requirement already satisfied: numpy in c:\\users\\retepmil\\anaconda3\\lib\\site-packages (from xgboost) (1.19.2)\n",
      "Note: you may need to restart the kernel to use updated packages.\n"
     ]
    }
   ],
   "source": [
    "pip install xgboost"
   ]
  },
  {
   "cell_type": "code",
   "execution_count": 28,
   "metadata": {},
   "outputs": [
    {
     "name": "stdout",
     "output_type": "stream",
     "text": [
      "Requirement already satisfied: graphviz in c:\\users\\retepmil\\anaconda3\\lib\\site-packages (0.17)\n",
      "Note: you may need to restart the kernel to use updated packages.\n"
     ]
    }
   ],
   "source": [
    "pip install graphviz"
   ]
  },
  {
   "cell_type": "code",
   "execution_count": 97,
   "metadata": {},
   "outputs": [],
   "source": [
    "from sklearn.tree import DecisionTreeRegressor\n",
    "from sklearn.ensemble import ExtraTreesRegressor, AdaBoostRegressor, BaggingRegressor, GradientBoostingRegressor, VotingRegressor\n",
    "from xgboost import XGBRegressor, plot_importance, plot_tree\n",
    "import graphviz\n",
    "\n",
    "dt_reg = DecisionTreeRegressor(criterion='mse', max_depth=10, random_state=2021)\n",
    "rf_reg = RandomForestRegressor(n_estimators=100, max_depth=10, random_state=2021)\n",
    "et_reg = ExtraTreesRegressor(n_estimators=100, max_depth=10, random_state=2021)\n",
    "ada_reg = AdaBoostRegressor(n_estimators=100, learning_rate=0.1, random_state=2021)\n",
    "bag_reg = BaggingRegressor(n_estimators=20, random_state=2021)\n",
    "gb_reg = GradientBoostingRegressor(n_estimators=100, learning_rate=0.1, random_state=2021)\n",
    "\n",
    "regressors = [dt_reg, rf_reg, et_reg, ada_reg, bag_reg, gb_reg]"
   ]
  },
  {
   "cell_type": "code",
   "execution_count": 98,
   "metadata": {},
   "outputs": [
    {
     "name": "stdout",
     "output_type": "stream",
     "text": [
      "Training the DecisionTreeRegressor(max_depth=10, random_state=2021)\n",
      "Training the RandomForestRegressor(max_depth=10, random_state=2021)\n",
      "Training the ExtraTreesRegressor(max_depth=10, random_state=2021)\n",
      "Training the AdaBoostRegressor(learning_rate=0.1, n_estimators=100, random_state=2021)\n",
      "Training the BaggingRegressor(n_estimators=20, random_state=2021)\n",
      "Training the GradientBoostingRegressor(random_state=2021)\n"
     ]
    }
   ],
   "source": [
    "for reg in regressors:\n",
    "    print(\"Training the\", reg)\n",
    "    reg.fit(X_train_IF, y_train_IF)"
   ]
  },
  {
   "cell_type": "code",
   "execution_count": 99,
   "metadata": {},
   "outputs": [
    {
     "data": {
      "text/plain": [
       "[0.6182593082107082,\n",
       " 0.7642106854883921,\n",
       " 0.7572459275402712,\n",
       " 0.7119963028903662,\n",
       " 0.759473431512028,\n",
       " 0.7397370705023624]"
      ]
     },
     "execution_count": 99,
     "metadata": {},
     "output_type": "execute_result"
    }
   ],
   "source": [
    "[reg.score(X_val_IF, y_val_IF) for reg in regressors]\n",
    "#DT, ada 제외하겠음"
   ]
  },
  {
   "cell_type": "code",
   "execution_count": 100,
   "metadata": {},
   "outputs": [
    {
     "data": {
      "text/plain": [
       "0.7642168393606792"
      ]
     },
     "execution_count": 100,
     "metadata": {},
     "output_type": "execute_result"
    }
   ],
   "source": [
    "named_estimators = [\n",
    "    (\"rf\", rf_reg),\n",
    "    (\"et\", et_reg),\n",
    "    (\"bag\", bag_reg),\n",
    "    (\"gb\", gb_reg),\n",
    "]\n",
    "voting_reg = VotingRegressor(named_estimators)\n",
    "voting_reg.fit(X_train_IF, y_train_IF)\n",
    "voting_reg.score(X_val_IF, y_val_IF)"
   ]
  },
  {
   "cell_type": "code",
   "execution_count": 101,
   "metadata": {},
   "outputs": [
    {
     "name": "stdout",
     "output_type": "stream",
     "text": [
      "40.3360015911419\n"
     ]
    }
   ],
   "source": [
    "pred = voting_reg.predict(X_val_IF)\n",
    "\n",
    "rmse = np.sqrt(mean_squared_error(y_val_IF, pred))\n",
    "print(rmse)"
   ]
  },
  {
   "cell_type": "code",
   "execution_count": 102,
   "metadata": {},
   "outputs": [
    {
     "name": "stdout",
     "output_type": "stream",
     "text": [
      "40.92792388558699\n"
     ]
    }
   ],
   "source": [
    "pred = voting_reg.estimators_[1].predict(X_val_IF)\n",
    "rmse = np.sqrt(mean_squared_error(y_val_IF, pred))\n",
    "print(rmse)\n",
    "#그냥 et가 성능짱인듯...?"
   ]
  },
  {
   "cell_type": "code",
   "execution_count": 103,
   "metadata": {},
   "outputs": [
    {
     "data": {
      "text/plain": [
       "'from sklearn.tree import export_graphviz\\n\\ndot_data = export_graphviz(voting_clf.estimators_[1].estimators_[0])\\ngraph = graphviz.Source(dot_data)\\ngraph'"
      ]
     },
     "execution_count": 103,
     "metadata": {},
     "output_type": "execute_result"
    }
   ],
   "source": [
    "'''from sklearn.tree import export_graphviz\n",
    "\n",
    "dot_data = export_graphviz(voting_clf.estimators_[1].estimators_[0])\n",
    "graph = graphviz.Source(dot_data)\n",
    "graph'''"
   ]
  },
  {
   "cell_type": "code",
   "execution_count": 104,
   "metadata": {},
   "outputs": [
    {
     "name": "stdout",
     "output_type": "stream",
     "text": [
      "40.92792388558699\n"
     ]
    }
   ],
   "source": [
    "et_reg_ori = ExtraTreesRegressor(n_estimators=1000, max_depth=10, random_state=2021)\n",
    "et_reg_ori.fit(X_train_IF, y_train_IF)\n",
    "pred = voting_reg.estimators_[1].predict(X_val_IF)\n",
    "rmse = np.sqrt(mean_squared_error(y_val_IF, pred))\n",
    "print(rmse)"
   ]
  },
  {
   "cell_type": "markdown",
   "metadata": {},
   "source": [
    "### XGBoost"
   ]
  },
  {
   "cell_type": "code",
   "execution_count": 105,
   "metadata": {},
   "outputs": [
    {
     "name": "stdout",
     "output_type": "stream",
     "text": [
      "42.133570222911764\n"
     ]
    }
   ],
   "source": [
    "xgbr = XGBRegressor(n_estimators=100, learning_rate=0.1, max_depth=3, objective='reg:squarederror', random_state=2021)\n",
    "xgbr.fit(X_train_IF, y_train_IF)\n",
    "pred = xgbr.predict(X_val_IF)\n",
    "\n",
    "rmse = np.sqrt(mean_squared_error(y_val_IF, pred))\n",
    "print(rmse)"
   ]
  },
  {
   "cell_type": "code",
   "execution_count": 106,
   "metadata": {},
   "outputs": [
    {
     "data": {
      "text/plain": [
       "<AxesSubplot:title={'center':'Feature importance'}, xlabel='F score', ylabel='Features'>"
      ]
     },
     "execution_count": 106,
     "metadata": {},
     "output_type": "execute_result"
    },
    {
     "data": {
      "image/png": "[encoded data removed]",
      "text/plain": [
       "<Figure size 576x432 with 1 Axes>"
      ]
     },
     "metadata": {
      "needs_background": "light"
     },
     "output_type": "display_data"
    }
   ],
   "source": [
    "fig, ax = plt.subplots(figsize=(8, 6))\n",
    "plot_importance(xgbr, ax=ax)"
   ]
  },
  {
   "cell_type": "code",
   "execution_count": 107,
   "metadata": {},
   "outputs": [
    {
     "name": "stdout",
     "output_type": "stream",
     "text": [
      "40.925139293241514\n"
     ]
    },
    {
     "data": {
      "text/plain": [
       "<AxesSubplot:title={'center':'Feature importance'}, xlabel='F score', ylabel='Features'>"
      ]
     },
     "execution_count": 107,
     "metadata": {},
     "output_type": "execute_result"
    },
    {
     "data": {
      "image/png": "[encoded data removed]",
      "text/plain": [
       "<Figure size 576x432 with 1 Axes>"
      ]
     },
     "metadata": {
      "needs_background": "light"
     },
     "output_type": "display_data"
    }
   ],
   "source": [
    "xgbr_all = XGBRegressor(n_estimators=100, learning_rate=0.1, max_depth=3, objective='reg:squarederror', random_state=2021)\n",
    "xgbr_all.fit(X_train_all, y_train_all)\n",
    "pred = xgbr_all.predict(X_val_all)\n",
    "\n",
    "rmse = np.sqrt(mean_squared_error(y_val_all, pred))\n",
    "print(rmse)\n",
    "\n",
    "fig, ax = plt.subplots(figsize=(8, 6))\n",
    "plot_importance(xgbr_all, ax=ax)"
   ]
  },
  {
   "cell_type": "markdown",
   "metadata": {},
   "source": [
    "### 상위 6개만 가지고..."
   ]
  },
  {
   "cell_type": "code",
   "execution_count": 108,
   "metadata": {},
   "outputs": [
    {
     "name": "stdout",
     "output_type": "stream",
     "text": [
      "41.55150635268687\n"
     ]
    },
    {
     "data": {
      "text/plain": [
       "<AxesSubplot:title={'center':'Feature importance'}, xlabel='F score', ylabel='Features'>"
      ]
     },
     "execution_count": 108,
     "metadata": {},
     "output_type": "execute_result"
    },
    {
     "data": {
      "image/png": "[encoded data removed]",
      "text/plain": [
       "<Figure size 576x432 with 1 Axes>"
      ]
     },
     "metadata": {
      "needs_background": "light"
     },
     "output_type": "display_data"
    }
   ],
   "source": [
    "X = itImp_IF[itImp_mid.columns.difference(['count', 'hour_bef_precipitation', 'hour_bef_pm2.5', 'hour_bef_humidity'])]\n",
    "y = itImp_IF[['count']]\n",
    "X_train_all6, X_val_all6, y_train_all6, y_val_all6 = train_test_split(X, y, test_size=0.33, random_state=2021)\n",
    "\n",
    "xgbr_all_top6 = XGBRegressor(n_estimators=100, learning_rate=0.1, max_depth=3, objective='reg:squarederror', random_state=2021)\n",
    "xgbr_all_top6.fit(X_train_all6, y_train_all6)\n",
    "pred = xgbr_all_top6.predict(X_val_all6)\n",
    "\n",
    "rmse = np.sqrt(mean_squared_error(y_val_all6, pred))\n",
    "print(rmse)\n",
    "\n",
    "fig, ax = plt.subplots(figsize=(8, 6))\n",
    "plot_importance(xgbr_all, ax=ax)"
   ]
  },
  {
   "cell_type": "code",
   "execution_count": 109,
   "metadata": {},
   "outputs": [
    {
     "name": "stdout",
     "output_type": "stream",
     "text": [
      "[0.56344448 0.04070019 0.03906542 0.02636396 0.02177752 0.04020444\n",
      " 0.18981505 0.02978433 0.04884462]\n"
     ]
    },
    {
     "ename": "NameError",
     "evalue": "name 'best_reg' is not defined",
     "output_type": "error",
     "traceback": [
      "\u001b[1;31m---------------------------------------------------------------------------\u001b[0m",
      "\u001b[1;31mNameError\u001b[0m                                 Traceback (most recent call last)",
      "\u001b[1;32m<ipython-input-109-535a30117414>\u001b[0m in \u001b[0;36m<module>\u001b[1;34m\u001b[0m\n\u001b[0;32m     10\u001b[0m \u001b[1;31m#0, 6, 2, 8, 1, 5\u001b[0m\u001b[1;33m\u001b[0m\u001b[1;33m\u001b[0m\u001b[1;33m\u001b[0m\u001b[0m\n\u001b[0;32m     11\u001b[0m \u001b[1;33m\u001b[0m\u001b[0m\n\u001b[1;32m---> 12\u001b[1;33m \u001b[0mpred\u001b[0m \u001b[1;33m=\u001b[0m \u001b[0mbest_reg\u001b[0m\u001b[1;33m.\u001b[0m\u001b[0mpredict\u001b[0m\u001b[1;33m(\u001b[0m\u001b[0mX_val_IF6\u001b[0m\u001b[1;33m)\u001b[0m\u001b[1;33m\u001b[0m\u001b[1;33m\u001b[0m\u001b[0m\n\u001b[0m\u001b[0;32m     13\u001b[0m \u001b[0mrmse\u001b[0m \u001b[1;33m=\u001b[0m \u001b[0mnp\u001b[0m\u001b[1;33m.\u001b[0m\u001b[0msqrt\u001b[0m\u001b[1;33m(\u001b[0m\u001b[0mmean_squared_error\u001b[0m\u001b[1;33m(\u001b[0m\u001b[0my_val_IF6\u001b[0m\u001b[1;33m,\u001b[0m \u001b[0mpred\u001b[0m\u001b[1;33m)\u001b[0m\u001b[1;33m)\u001b[0m\u001b[1;33m\u001b[0m\u001b[1;33m\u001b[0m\u001b[0m\n\u001b[0;32m     14\u001b[0m \u001b[0mprint\u001b[0m\u001b[1;33m(\u001b[0m\u001b[0mrmse\u001b[0m\u001b[1;33m)\u001b[0m\u001b[1;33m\u001b[0m\u001b[1;33m\u001b[0m\u001b[0m\n",
      "\u001b[1;31mNameError\u001b[0m: name 'best_reg' is not defined"
     ]
    }
   ],
   "source": [
    "X = itImp_IF[itImp_mid.columns.difference(['count'])]\n",
    "y = itImp_IF[['count']]\n",
    "X_train_IFa, X_val_IFa, y_train_IFa, y_val_IFa = train_test_split(X, y, test_size=0.33, random_state=2021)\n",
    "\n",
    "fit_reg = ExtraTreesRegressor(n_estimators=100, max_depth=10, random_state=2021)\n",
    "fit_reg.fit(X_train_IFa, y_train_IFa)\n",
    "\n",
    "print(fit_reg.feature_importances_)\n",
    "# use hour, ozone, precipitation, 2.5, temperature, visibility\n",
    "#0, 6, 2, 8, 1, 5\n",
    "\n",
    "pred = best_reg.predict(X_val_IF6)\n",
    "rmse = np.sqrt(mean_squared_error(y_val_IF6, pred))\n",
    "print(rmse)"
   ]
  },
  {
   "cell_type": "code",
   "execution_count": 110,
   "metadata": {},
   "outputs": [
    {
     "name": "stdout",
     "output_type": "stream",
     "text": [
      "38.99693456750403\n"
     ]
    }
   ],
   "source": [
    "X = itImp_IF[itImp_mid.columns.difference(['count', 'hour_bef_windspeed', 'hour_bef_humidity', 'hour_bef_pm10'])]\n",
    "y = itImp_IF[['count']]\n",
    "X_train_IF6, X_val_IF6, y_train_IF6, y_val_IF6 = train_test_split(X, y, test_size=0.33, random_state=2021)\n",
    "\n",
    "best_reg = ExtraTreesRegressor(n_estimators=100, max_depth=10, random_state=2021)\n",
    "best_reg.fit(X_train_IF6, y_train_IF6)\n",
    "\n",
    "pred = best_reg.predict(X_val_IF6)\n",
    "rmse = np.sqrt(mean_squared_error(y_val_IF6, pred))\n",
    "print(rmse)\n",
    "#cross_val = cross_validate(\n",
    "#    estimator=best_reg,\n",
    "#    X=X_train_IF6, y=y_train_IF6,\n",
    "#    cv=5\n",
    "#)"
   ]
  },
  {
   "cell_type": "code",
   "execution_count": 111,
   "metadata": {},
   "outputs": [
    {
     "data": {
      "text/plain": [
       "array(['hour', 'hour_bef_temperature', 'hour_bef_precipitation',\n",
       "       'hour_bef_windspeed', 'hour_bef_humidity', 'hour_bef_visibility',\n",
       "       'hour_bef_ozone', 'hour_bef_pm10', 'hour_bef_pm2.5', 'count'],\n",
       "      dtype=object)"
      ]
     },
     "execution_count": 111,
     "metadata": {},
     "output_type": "execute_result"
    }
   ],
   "source": [
    "itImp_IF.columns.values"
   ]
  },
  {
   "cell_type": "code",
   "execution_count": 112,
   "metadata": {},
   "outputs": [
    {
     "ename": "NameError",
     "evalue": "name 'KNeighborsRegressor' is not defined",
     "output_type": "error",
     "traceback": [
      "\u001b[1;31m---------------------------------------------------------------------------\u001b[0m",
      "\u001b[1;31mNameError\u001b[0m                                 Traceback (most recent call last)",
      "\u001b[1;32m<ipython-input-112-373952130057>\u001b[0m in \u001b[0;36m<module>\u001b[1;34m\u001b[0m\n\u001b[0;32m      3\u001b[0m \u001b[0mlr_final\u001b[0m\u001b[1;33m=\u001b[0m\u001b[0mLinearRegression\u001b[0m\u001b[1;33m(\u001b[0m\u001b[1;33m)\u001b[0m\u001b[1;33m\u001b[0m\u001b[1;33m\u001b[0m\u001b[0m\n\u001b[0;32m      4\u001b[0m \u001b[1;33m\u001b[0m\u001b[0m\n\u001b[1;32m----> 5\u001b[1;33m estimators= [('knn_reg',KNeighborsRegressor(n_neighbors=10)),('rf_reg',RandomForestRegressor(max_depth=3, n_jobs=-1, n_estimators=300, random_state=2021)),\n\u001b[0m\u001b[0;32m      6\u001b[0m \u001b[1;33m(\u001b[0m\u001b[1;34m'aba_reg'\u001b[0m\u001b[1;33m,\u001b[0m\u001b[0mAdaBoostRegressor\u001b[0m\u001b[1;33m(\u001b[0m\u001b[0mn_estimators\u001b[0m\u001b[1;33m=\u001b[0m\u001b[1;36m300\u001b[0m\u001b[1;33m,\u001b[0m\u001b[0mlearning_rate\u001b[0m\u001b[1;33m=\u001b[0m\u001b[1;36m0.3\u001b[0m\u001b[1;33m,\u001b[0m\u001b[0mrandom_state\u001b[0m\u001b[1;33m=\u001b[0m\u001b[1;36m2021\u001b[0m\u001b[1;33m,\u001b[0m\u001b[0mloss\u001b[0m\u001b[1;33m=\u001b[0m\u001b[1;34m'square'\u001b[0m\u001b[1;33m)\u001b[0m\u001b[1;33m)\u001b[0m\u001b[1;33m,\u001b[0m\u001b[1;33m\u001b[0m\u001b[1;33m\u001b[0m\u001b[0m\n\u001b[0;32m      7\u001b[0m ('dt_reg',DecisionTreeRegressor(max_depth=5,random_state=2021))]\n",
      "\u001b[1;31mNameError\u001b[0m: name 'KNeighborsRegressor' is not defined"
     ]
    }
   ],
   "source": [
    "from sklearn.ensemble import StackingRegressor\n",
    "\n",
    "lr_final=LinearRegression()\n",
    "\n",
    "estimators= [('knn_reg',KNeighborsRegressor(n_neighbors=10)),('rf_reg',RandomForestRegressor(max_depth=3, n_jobs=-1, n_estimators=300, random_state=2021)),\n",
    "('aba_reg',AdaBoostRegressor(n_estimators=300,learning_rate=0.3,random_state=2021,loss='square')),\n",
    "('dt_reg',DecisionTreeRegressor(max_depth=5,random_state=2021))]\n",
    "\n",
    "reg= StackingRegressor(estimators=estimators, final_estimator=lr_final)\n",
    "reg.fit(X_train, y_train)"
   ]
  },
  {
   "cell_type": "code",
   "execution_count": null,
   "metadata": {},
   "outputs": [],
   "source": []
  }
 ],
 "metadata": {
  "kernelspec": {
   "display_name": "Python 3",
   "language": "python",
   "name": "python3"
  },
  "language_info": {
   "codemirror_mode": {
    "name": "ipython",
    "version": 3
   },
   "file_extension": ".py",
   "mimetype": "text/x-python",
   "name": "python",
   "nbconvert_exporter": "python",
   "pygments_lexer": "ipython3",
   "version": "3.8.5"
  }
 },
 "nbformat": 4,
 "nbformat_minor": 4
}
